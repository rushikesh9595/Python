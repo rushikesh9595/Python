{
 "cells": [
  {
   "cell_type": "markdown",
   "id": "54694f0a",
   "metadata": {},
   "source": [
    "# 1. Simple Message: Store a message in a variable, and then print that message"
   ]
  },
  {
   "cell_type": "code",
   "execution_count": 1,
   "id": "21689999",
   "metadata": {},
   "outputs": [
    {
     "name": "stdout",
     "output_type": "stream",
     "text": [
      "Hello Rushi, How are you?\n"
     ]
    }
   ],
   "source": [
    "a = \"Hello Rushi, How are you?\"\n",
    "print(a)"
   ]
  },
  {
   "cell_type": "markdown",
   "id": "33d56698",
   "metadata": {},
   "source": [
    "# 2. Store a message in a variable and print that message. Then change the value of your variable to a new message and print the new message."
   ]
  },
  {
   "cell_type": "code",
   "execution_count": 3,
   "id": "0799011d",
   "metadata": {},
   "outputs": [
    {
     "name": "stdout",
     "output_type": "stream",
     "text": [
      "Albert Einstein once said, “A person who never made a mistake never tried anything new.”\n",
      "ALbert Einstein was a great scientist\n"
     ]
    }
   ],
   "source": [
    "A = \"Albert Einstein once said, “A person who never made a mistake never tried anything new.”\" \n",
    "print(A)\n",
    "A = \"ALbert Einstein was a great scientist\"\n",
    "print(A)"
   ]
  },
  {
   "cell_type": "markdown",
   "id": "a829eb8b",
   "metadata": {},
   "source": [
    "# 3. Store a person’s name in a variable and print a message to that person. Your message should be simple, such as, “Hello Eric, would you like to learn some Python today?”\n"
   ]
  },
  {
   "cell_type": "code",
   "execution_count": 4,
   "id": "5dd59e20",
   "metadata": {},
   "outputs": [
    {
     "name": "stdout",
     "output_type": "stream",
     "text": [
      "Hello Eric , would you like to learn some Python today?\n"
     ]
    }
   ],
   "source": [
    "a = \"Eric\"\n",
    "print(\"Hello\", a, \", would you like to learn some Python today?\")"
   ]
  },
  {
   "cell_type": "markdown",
   "id": "56e597b8",
   "metadata": {},
   "source": [
    "# 4. Find a quote from a famous person you admire. Print the quote and the name of its author. Your output should look something like the following, including the quotation marks: Albert Einstein once said, “A person who never made a mistake never tried anything new.”"
   ]
  },
  {
   "cell_type": "code",
   "execution_count": 6,
   "id": "7a882f6d",
   "metadata": {},
   "outputs": [
    {
     "name": "stdout",
     "output_type": "stream",
     "text": [
      "Mahatma Gandhi once said, Be the change you want to see in the world.\n"
     ]
    }
   ],
   "source": [
    "a = \"Mahatma Gandhi\"\n",
    "print(a, \"once said, Be the change you want to see in the world.\")"
   ]
  },
  {
   "cell_type": "markdown",
   "id": "d0dcfc86",
   "metadata": {},
   "source": [
    "# 5. Repeat Exercise 4, but this time store the famous person’s name in a variable called famous_person. Then compose your message and store it in a new variable called message. Print your message."
   ]
  },
  {
   "cell_type": "code",
   "execution_count": 7,
   "id": "e87eec39",
   "metadata": {},
   "outputs": [
    {
     "name": "stdout",
     "output_type": "stream",
     "text": [
      "Netaji Subhas Chandra Bose once said, Give me blood, I will give you freedom.\n"
     ]
    }
   ],
   "source": [
    "famous_person = \"Netaji Subhas Chandra Bose\"\n",
    "message = \"Give me blood, I will give you freedom.\"\n",
    "print(famous_person,\"once said,\", message)"
   ]
  },
  {
   "cell_type": "markdown",
   "id": "3e4fb87e",
   "metadata": {},
   "source": [
    "# 6. Write addition, subtraction, multiplication, and division operations that each result in the number 8. Be sure to enclose your operations in print statements to see the results. You should create four lines that look like this: print (5 + 3)Your output should simply be four lines with the number 8 appearing once on each line."
   ]
  },
  {
   "cell_type": "code",
   "execution_count": 9,
   "id": "1c10b67d",
   "metadata": {},
   "outputs": [
    {
     "name": "stdout",
     "output_type": "stream",
     "text": [
      "8\n",
      "8\n",
      "8\n",
      "8\n"
     ]
    }
   ],
   "source": [
    "print(5+3)\n",
    "print(10-2)\n",
    "print(4*2)\n",
    "print(int(16/2))"
   ]
  },
  {
   "cell_type": "markdown",
   "id": "5fcc6d11",
   "metadata": {},
   "source": [
    "# 7. Store your favourite number in a variable. Then, using that variable, create a message that reveals your favourite number. Print that message."
   ]
  },
  {
   "cell_type": "code",
   "execution_count": 11,
   "id": "a7ca90c2",
   "metadata": {},
   "outputs": [
    {
     "name": "stdout",
     "output_type": "stream",
     "text": [
      "My favorite number is 5\n"
     ]
    }
   ],
   "source": [
    "a = 5\n",
    "print(\"My favorite number is\", a)"
   ]
  },
  {
   "cell_type": "markdown",
   "id": "9ffdb61a",
   "metadata": {},
   "source": [
    "# 8. Choose two of the programs you’ve written and add at least one comment to each. If you don’t have anything specific to write because your programs are too simple at this point, just add your name and the current date at the top of each program file. Then write one sentence describing what the program does"
   ]
  },
  {
   "cell_type": "code",
   "execution_count": 17,
   "id": "4d5967bc",
   "metadata": {},
   "outputs": [
    {
     "name": "stdout",
     "output_type": "stream",
     "text": [
      "My name is Rushikesh and Today's date is 16/12/2023\n",
      "Hello Rushi, How are you?\n",
      "My name is Rushikesh and Today's date is 16/12/2023\n",
      "Netaji Subhas Chandra Bose once said, Give me blood, I will give you freedom.\n"
     ]
    }
   ],
   "source": [
    "print(\"My name is Rushikesh and Today's date is 16/12/2023\")\n",
    "a = \"Hello Rushi, How are you?\"\n",
    "print(a)\n",
    "\n",
    "print(\"My name is Rushikesh and Today's date is 16/12/2023\")\n",
    "famous_person = \"Netaji Subhas Chandra Bose\"\n",
    "message = \"Give me blood, I will give you freedom.\"\n",
    "print(famous_person,\"once said,\", message)"
   ]
  },
  {
   "cell_type": "markdown",
   "id": "153b8ce5",
   "metadata": {},
   "source": [
    "# 9. Store the names of a few of your friends in a list called names. Print each person’s name by accessing each element in the list, one at a time."
   ]
  },
  {
   "cell_type": "code",
   "execution_count": 20,
   "id": "d78ddc4a",
   "metadata": {},
   "outputs": [
    {
     "name": "stdout",
     "output_type": "stream",
     "text": [
      "Rushikesh\n",
      "Pranav\n",
      "Priyanka\n"
     ]
    }
   ],
   "source": [
    "names = [\"Rushikesh\", \"Pranav\", \"Priyanka\"]\n",
    "print(names[0])\n",
    "print(names[1])\n",
    "print(names[2])"
   ]
  },
  {
   "cell_type": "markdown",
   "id": "f608a8d0",
   "metadata": {},
   "source": [
    "# 10.Start with the list you used in Exercise 9, but instead of just printing each person’s name, print a message to them. The text of each message should be the same, but each message should be personalized with the person’sname."
   ]
  },
  {
   "cell_type": "code",
   "execution_count": 21,
   "id": "e7324aef",
   "metadata": {},
   "outputs": [
    {
     "name": "stdout",
     "output_type": "stream",
     "text": [
      "Hi Rushikesh, I admire you.\n",
      "Hi Pranav, I admire you.\n",
      "Hi Priyanka, I admire you.\n"
     ]
    }
   ],
   "source": [
    "names = [\"Hi Rushikesh, I admire you.\", \"Hi Pranav, I admire you.\", \"Hi Priyanka, I admire you.\"]\n",
    "print(names[0])\n",
    "print(names[1])\n",
    "print(names[2])"
   ]
  },
  {
   "cell_type": "markdown",
   "id": "13fe99a6",
   "metadata": {},
   "source": [
    "# 11.Think of your favourite mode of transportation, such as a motorcycle or a car, and make a list that stores several examples. Use your list to print a series of statements about these items, such as “I would like to own a Honda motorcycle.”"
   ]
  },
  {
   "cell_type": "code",
   "execution_count": 25,
   "id": "54d500c2",
   "metadata": {},
   "outputs": [
    {
     "name": "stdout",
     "output_type": "stream",
     "text": [
      "I would like to own a Mercedes\n",
      "I would love to ride a Jaguar\n",
      "I would like to be a part of team of Mercedes\n",
      "I would like to own Mercedes company\n"
     ]
    }
   ],
   "source": [
    "cars = ['Mercedes', 'Jaguar', 'BMW', 'Lamorghini']\n",
    "print(\"I would like to own a\", cars[0])\n",
    "print(\"I would love to ride a\", cars[1])\n",
    "print(\"I would like to be a part of team of\", cars[0])\n",
    "print(\"I would like to own\", cars[0], \"company\")"
   ]
  }
 ],
 "metadata": {
  "kernelspec": {
   "display_name": "Python 3 (ipykernel)",
   "language": "python",
   "name": "python3"
  },
  "language_info": {
   "codemirror_mode": {
    "name": "ipython",
    "version": 3
   },
   "file_extension": ".py",
   "mimetype": "text/x-python",
   "name": "python",
   "nbconvert_exporter": "python",
   "pygments_lexer": "ipython3",
   "version": "3.11.5"
  }
 },
 "nbformat": 4,
 "nbformat_minor": 5
}
