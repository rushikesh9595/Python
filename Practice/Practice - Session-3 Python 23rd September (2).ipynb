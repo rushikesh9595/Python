{
 "cells": [
  {
   "cell_type": "code",
   "execution_count": 9,
   "id": "e93a685b",
   "metadata": {},
   "outputs": [
    {
     "name": "stdout",
     "output_type": "stream",
     "text": [
      "['Python', 'is', 'a', 'good', 'language']\n",
      "is\n",
      "language\n"
     ]
    }
   ],
   "source": [
    "## splitting the string\n",
    "#syntax\n",
    "# Variable = \"String\"\n",
    "# New_Variable = s.split(Spearator)\n",
    "# print(New_Variable)\n",
    "\n",
    "a = \"Python is a good language\"\n",
    "a1 = a.split(' ')\n",
    "print(a1)\n",
    "b = a1[1]\n",
    "b1 = a1[4]\n",
    "print(b)\n",
    "print(b1)\n",
    "\n",
    "#we can see output is in data structure list format which we can acccess."
   ]
  },
  {
   "cell_type": "code",
   "execution_count": 3,
   "id": "b5854aa4",
   "metadata": {},
   "outputs": [
    {
     "name": "stdout",
     "output_type": "stream",
     "text": [
      "Python\n",
      "is\n",
      "a\n",
      "good\n",
      "language\n",
      "Outside the loop\n"
     ]
    }
   ],
   "source": [
    "# # splitting using for loop\n",
    "#syntax for for loop\n",
    "# for any_var in sequence:\n",
    "#     print(any_var).........space before print is indentation which denotes statement is inside the loop\n",
    "# print(\"Outside the loop\")\n",
    "\n",
    "for a2 in a1:\n",
    "    print(a2)\n",
    "print(\"Outside the loop\")\n",
    "\n",
    "#It gives me a sequence one by one if its a list"
   ]
  },
  {
   "cell_type": "code",
   "execution_count": 4,
   "id": "0da8afaf",
   "metadata": {},
   "outputs": [
    {
     "name": "stdout",
     "output_type": "stream",
     "text": [
      "P\n",
      "y\n",
      "t\n",
      "h\n",
      "o\n",
      "n\n",
      " \n",
      "i\n",
      "s\n",
      " \n",
      "a\n",
      " \n",
      "g\n",
      "o\n",
      "o\n",
      "d\n",
      " \n",
      "l\n",
      "a\n",
      "n\n",
      "g\n",
      "u\n",
      "a\n",
      "g\n",
      "e\n"
     ]
    }
   ],
   "source": [
    "#if its a string, for loop will print each letter one by one\n",
    "for i1 in a:\n",
    "    print(i1)"
   ]
  },
  {
   "cell_type": "code",
   "execution_count": 8,
   "id": "1c03da09",
   "metadata": {},
   "outputs": [
    {
     "name": "stdout",
     "output_type": "stream",
     "text": [
      "I@ @a@m@ @a@ @g@o@o@d@ @l@e@a@r@n@e@r\n",
      "rushikeshbarwade@gmail.com\n"
     ]
    }
   ],
   "source": [
    "### joining the string and list\n",
    "var = \"I am a good learner\" \n",
    "var2 = [\"rushikeshbarwade\",\"gmail.com\"]\n",
    "var1 = '@'.join(var)    ### it will join letters and spaces in between by @\n",
    "var3 = '@'.join(var2)   #### It will join elements in a list by @\n",
    "print(var1)\n",
    "print(var3)"
   ]
  },
  {
   "cell_type": "code",
   "execution_count": 11,
   "id": "1b617284",
   "metadata": {},
   "outputs": [
    {
     "name": "stdout",
     "output_type": "stream",
     "text": [
      "MY NAME IS NOT NINAAD\n",
      "my name is not ninaad\n",
      "mY name iS nOt nINAad\n",
      "My Name Is Not Ninaad\n",
      "My name is not ninaad\n"
     ]
    }
   ],
   "source": [
    " ##changing the cases in a string (called text cleaning or text processing)\n",
    "# upper()   Everything in upper \n",
    "# lower()  Everything in lower\n",
    "# swapcase() will convert upper to lower and vice versa\n",
    "# title()  will convert first letter of every word in upper othere remains lower\n",
    "# capitalize() will convert first letter of statement in upper only\n",
    "\n",
    "a = \"My NAME Is NoT NinaAD\"\n",
    "\n",
    "print(a.upper())\n",
    "print(a.lower())\n",
    "print(a.swapcase())\n",
    "print(a.title())\n",
    "print(a.capitalize())\n"
   ]
  },
  {
   "cell_type": "code",
   "execution_count": 14,
   "id": "7c73e5b8",
   "metadata": {},
   "outputs": [
    {
     "name": "stdout",
     "output_type": "stream",
     "text": [
      "C is Rushikesh\n",
      "D is RUSHIKESH\n",
      "NINAAD\n",
      "ninaad\n",
      "nINAAD\n",
      "Ninaad\n",
      "Ninaad\n",
      "RUSHIKESH\n",
      "rushikesh\n",
      "rUSHIKESH\n",
      "Rushikesh\n",
      "Rushikesh\n",
      "PRANAV\n",
      "pranav\n",
      "pRANAV\n",
      "Pranav\n",
      "Pranav\n"
     ]
    }
   ],
   "source": [
    "b = [\"Ninaad\", \"Rushikesh\", \"Pranav\"]  # list can't be converted to cases unless it is in loop or it is accessed using index\n",
    "c = b[1]\n",
    "print(\"C is\", c)\n",
    "d = c.upper()\n",
    "print(\"D is\", d)\n",
    "for c1 in b:\n",
    "    print(c1.upper())\n",
    "    print(c1.lower())\n",
    "    print(c1.swapcase())\n",
    "    print(c1.title())\n",
    "    print(c1.capitalize())"
   ]
  },
  {
   "cell_type": "code",
   "execution_count": 16,
   "id": "64a4c24f",
   "metadata": {},
   "outputs": [
    {
     "name": "stdout",
     "output_type": "stream",
     "text": [
      "True\n",
      "False\n"
     ]
    }
   ],
   "source": [
    "## asking python if string start and end are true or not\n",
    "\n",
    "a = \"My name is Rushikesh\"\n",
    "print(a.startswith(\"My\"))\n",
    "print(a.endswith('is'))"
   ]
  },
  {
   "cell_type": "code",
   "execution_count": null,
   "id": "4482762d",
   "metadata": {},
   "outputs": [],
   "source": []
  },
  {
   "cell_type": "code",
   "execution_count": 2,
   "id": "1d4e3865",
   "metadata": {},
   "outputs": [
    {
     "name": "stdout",
     "output_type": "stream",
     "text": [
      "The person whose salary is 50000 has Rushikesh as his name and his age is 26\n",
      "The person whose salary is 50000 has as his name Rushikesh and his age is 26\n",
      "The person whose salary is 50000 has Rushikesh as his name and his age is 26\n",
      "The person whose salary is 50000 has Rushikesh as his name and his age is 26\n"
     ]
    }
   ],
   "source": [
    "### formatting of strings using dot format (.format)\n",
    "\n",
    "name = \"Rushikesh\"\n",
    "age = 26\n",
    "salary = 50000\n",
    "    \n",
    "print(\"The person whose salary is {0} has {1} as his name and his age is {2}\".format(salary,name,age))\n",
    "print(\"The person whose salary is {} has as his name {} and his age is {}\".format(salary,name,age))\n",
    "print(\"The person whose salary is {x} has {y} as his name and his age is {z}\".format(x=salary,y=name,z=age))\n",
    "print(f\"The person whose salary is {salary} has {name} as his name and his age is {age}\")"
   ]
  },
  {
   "cell_type": "markdown",
   "id": "9dc98782",
   "metadata": {},
   "source": [
    "# List Data Structure\n",
    "\n"
   ]
  },
  {
   "cell_type": "code",
   "execution_count": 35,
   "id": "de3d48cb",
   "metadata": {},
   "outputs": [
    {
     "name": "stdout",
     "output_type": "stream",
     "text": [
      "[10, 'me', 90, 785, 'I love', [89, 'Hmm']]\n"
     ]
    }
   ],
   "source": [
    "# l = []...syntax\n",
    "\n",
    "# In list\n",
    "# Insertion order and values are preserved\n",
    "# Duplicate objects are allowed\n",
    "# Hetrogenous Datatypes are allowed eg. [10, 'string']\n",
    "# List is dynamic, adding or removing element from any position\n",
    "# represented in []\n",
    "# list is mutable i.e modified, elements can be replaced and order can be changed\n",
    "\n",
    "a = [10,\"me\",90,785,\"I love\",[89,\"Hmm\"]]\n",
    "print(a)\n",
    "\n"
   ]
  },
  {
   "cell_type": "code",
   "execution_count": 6,
   "id": "252ad3d4",
   "metadata": {},
   "outputs": [
    {
     "name": "stdout",
     "output_type": "stream",
     "text": [
      "[10, 'me', 90, 90, 785, 'I love']\n",
      "6\n"
     ]
    }
   ],
   "source": [
    "a1 = [10,\"me\",90,90,785,\"I love\"]\n",
    "print(a1)\n",
    "print(len(a1))"
   ]
  },
  {
   "cell_type": "code",
   "execution_count": 8,
   "id": "a594e619",
   "metadata": {},
   "outputs": [
    {
     "name": "stdout",
     "output_type": "stream",
     "text": [
      "[10, 'Not me', 90, 90, 785, 'I love']\n"
     ]
    }
   ],
   "source": [
    "## replacing using index\n",
    "\n",
    "a1[1] = \"Not me\"\n",
    "#a2 = a1.replace(10, \"I\")      ## list object has new attribute replace\n",
    "print(a1)\n",
    "#print(a2)"
   ]
  },
  {
   "cell_type": "code",
   "execution_count": 23,
   "id": "4cd373e4",
   "metadata": {},
   "outputs": [
    {
     "name": "stdout",
     "output_type": "stream",
     "text": [
      "Not m\n",
      "Not me\n",
      "Not \n"
     ]
    }
   ],
   "source": [
    "a2 = a1[1]\n",
    "print(a2[0:5])\n",
    "print(a1[1])\n",
    "print(a1[1][0:4])    ### Slicing can  be done like this as well"
   ]
  },
  {
   "cell_type": "code",
   "execution_count": 52,
   "id": "af8ed340",
   "metadata": {},
   "outputs": [
    {
     "name": "stdout",
     "output_type": "stream",
     "text": [
      "10\n",
      "Not-me\n",
      "90\n",
      "90\n",
      "785\n",
      "I love\n"
     ]
    }
   ],
   "source": [
    "for a2 in a1:\n",
    "    print(a2)\n",
    " "
   ]
  },
  {
   "cell_type": "code",
   "execution_count": 9,
   "id": "d368661e",
   "metadata": {},
   "outputs": [
    {
     "name": "stdout",
     "output_type": "stream",
     "text": [
      "6\n",
      "2\n",
      "2\n",
      "['ram', 'sita', 'Laxman']\n",
      "['bharat', 'ram', 'sita', 'Laxman']\n",
      "['bharat', 'ram', 'sita', 'Laxman', 67, 98, 98, 76, 'Ahammmm']\n",
      "a5 is : None\n",
      "a6 is: [67, 98, 98, 76, 'Ahammmm', 'bharat', 'ram', 'sita', 'Laxman', 67, 98, 98, 76, 'Ahammmm', 'bharat', 'ram', 'sita', 'Laxman', 67, 98, 98, 76, 'Ahammmm']\n",
      "pop is: [67, 98, 98, 'Ahammmm', 'bharat', 'ram', 'sita', 'Laxman', 67, 98, 98, 76, 'Ahammmm', 'bharat', 'ram', 'sita', 'Laxman', 67, 98, 98, 76]\n",
      "[87, 98, 87, 76, 76, 'Om']\n"
     ]
    }
   ],
   "source": [
    "## IMportant functions of list\n",
    "\n",
    "#1. len().....number of elements in a list\n",
    "#2. count().....number of occureneces of specified items in a list\n",
    "#3. Index()....gives me the position of specified element in list\n",
    "#4. append()....add anything at the end of list\n",
    "#5 insert()....adds anything at specified index\n",
    "#6 extend().....adds multiple values\n",
    "#7 pop().....it will remove and return the last element or specified element by index\n",
    "\n",
    "print(len(a1))          ###\n",
    "print(a1.count(90))    #### It will count occurences of digit or element 90\n",
    "print(a1.index(90))     #### It will give me the position of  digit 90\n",
    "\n",
    "a = [\"ram\", \"sita\"]\n",
    "a.append(\"Laxman\")    #### It will add specified element at end\n",
    "print(a)\n",
    "\n",
    "a.insert(0,\"bharat\")    #### IT will add 'bharat' at '0th' position or index\n",
    "print(a)\n",
    "\n",
    "a6 = [67,98,98,76,\"Ahammmm\"]     ### It will extend the list from end element\n",
    "a.extend(a6)\n",
    "a5 = a6.extend(a)\n",
    "print(a)\n",
    "print(\"a5 is :\",a5)      ##### Its printing none means its not a valid argument\n",
    "\n",
    "a6.extend(a)\n",
    "print(\"a6 is:\", a6)\n",
    "\n",
    "a6.pop(3)     #### It will remove specified element using index of that element\n",
    "a6.pop()\n",
    "print(\"pop is:\",a6)\n",
    "\n",
    "var = [87,98,87,64,76,76,\"Om\"]     \n",
    "var.remove(64)          ##### it will remove the specified element using the value\n",
    "print(var)\n",
    "\n",
    "\n"
   ]
  },
  {
   "cell_type": "code",
   "execution_count": 28,
   "id": "fc093074",
   "metadata": {},
   "outputs": [
    {
     "data": {
      "text/plain": [
       "[87, 98, 87, 76, 76, 'Om']"
      ]
     },
     "execution_count": 28,
     "metadata": {},
     "output_type": "execute_result"
    }
   ],
   "source": [
    "var"
   ]
  },
  {
   "cell_type": "code",
   "execution_count": 88,
   "id": "2bf784d0",
   "metadata": {},
   "outputs": [
    {
     "name": "stdout",
     "output_type": "stream",
     "text": [
      "['Om', 76, 76, 87, 98, 87]\n"
     ]
    }
   ],
   "source": [
    "var.reverse()    ### IT will reverse the order\n",
    "print(var)"
   ]
  },
  {
   "cell_type": "code",
   "execution_count": 92,
   "id": "215f6933",
   "metadata": {},
   "outputs": [
    {
     "name": "stdout",
     "output_type": "stream",
     "text": [
      "[65, 73, 76, 98, 980]\n"
     ]
    }
   ],
   "source": [
    "var1 = [76,98,980,73,65]    \n",
    "var1.sort()               ###default ascending\n",
    "print(var1)"
   ]
  },
  {
   "cell_type": "code",
   "execution_count": 93,
   "id": "5465d9c0",
   "metadata": {},
   "outputs": [
    {
     "name": "stdout",
     "output_type": "stream",
     "text": [
      "[980, 98, 76, 73, 65]\n"
     ]
    }
   ],
   "source": [
    "var1.sort(reverse=True)    #descending\n",
    "print(var1)"
   ]
  },
  {
   "cell_type": "code",
   "execution_count": 98,
   "id": "41703e22",
   "metadata": {},
   "outputs": [
    {
     "name": "stdout",
     "output_type": "stream",
     "text": [
      "I had a car in garrage doing well\n"
     ]
    }
   ],
   "source": [
    "# Python story generator\n",
    "\n",
    "when = [\"I was 10 years old\", \"I had a car\", \"I drove an aeroplane\"]\n",
    "where = [\"in my home\", \"in garrage\", \"in air\"]\n",
    "how = [\"doing well\", \"looking beautiful\", \"swiftly\"]\n",
    "\n",
    "import random\n",
    "\n",
    "a = (random.choice(when) + ' ' + random.choice(where) + ' ' + random.choice(how))  ### It will select random text but with logic\n",
    "print(a)\n"
   ]
  },
  {
   "cell_type": "code",
   "execution_count": 99,
   "id": "bd6cd057",
   "metadata": {},
   "outputs": [
    {
     "name": "stdout",
     "output_type": "stream",
     "text": [
      "[10, 100, 20, 40, 50, 'Hare']\n"
     ]
    }
   ],
   "source": [
    "### Aliasing (exchaning only variables or assigning values or list of 1 variable to another)\n",
    "#### it will simultaneously change values in both variables if transformation is done\n",
    "n = [10,100,20,40,50,\"Hare\"]\n",
    "print(n)"
   ]
  },
  {
   "cell_type": "code",
   "execution_count": 100,
   "id": "dd5b2e2b",
   "metadata": {},
   "outputs": [
    {
     "name": "stdout",
     "output_type": "stream",
     "text": [
      "[10, 100, 20, 40, 50, 'Hare']\n"
     ]
    }
   ],
   "source": [
    "y = n\n",
    "print(y)"
   ]
  },
  {
   "cell_type": "code",
   "execution_count": 101,
   "id": "e3e70d23",
   "metadata": {},
   "outputs": [
    {
     "name": "stdout",
     "output_type": "stream",
     "text": [
      "[10, 100, 320, 40, 50, 'Hare']\n"
     ]
    }
   ],
   "source": [
    "y[2] = 320\n",
    "print(y)"
   ]
  },
  {
   "cell_type": "code",
   "execution_count": 102,
   "id": "72405a70",
   "metadata": {},
   "outputs": [
    {
     "name": "stdout",
     "output_type": "stream",
     "text": [
      "[10, 100, 320, 40, 50, 'Hare']\n"
     ]
    }
   ],
   "source": [
    "print(n)   ## if I change the element in y, element in n is also changing, this is called aliasing"
   ]
  },
  {
   "cell_type": "code",
   "execution_count": 103,
   "id": "79d3e732",
   "metadata": {},
   "outputs": [
    {
     "name": "stdout",
     "output_type": "stream",
     "text": [
      "[10, 100, 320, 40, 50, 'Hare']\n"
     ]
    }
   ],
   "source": [
    "### Copying or Cloning - If i change the element in w, element in y is not changing\n",
    "\n",
    "print(y)"
   ]
  },
  {
   "cell_type": "code",
   "execution_count": 104,
   "id": "7d7df34d",
   "metadata": {},
   "outputs": [
    {
     "name": "stdout",
     "output_type": "stream",
     "text": [
      "[10, 100, 320, 40, 50, 'Hare']\n"
     ]
    }
   ],
   "source": [
    "w = y.copy()\n",
    "print(w)"
   ]
  },
  {
   "cell_type": "code",
   "execution_count": 105,
   "id": "fe0a86b6",
   "metadata": {},
   "outputs": [
    {
     "name": "stdout",
     "output_type": "stream",
     "text": [
      "[10, 987, 320, 40, 50, 'Hare']\n"
     ]
    }
   ],
   "source": [
    "w[1] = 987\n",
    "print(w)"
   ]
  },
  {
   "cell_type": "code",
   "execution_count": 106,
   "id": "36c8c417",
   "metadata": {},
   "outputs": [
    {
     "name": "stdout",
     "output_type": "stream",
     "text": [
      "[10, 100, 320, 40, 50, 'Hare']\n"
     ]
    }
   ],
   "source": [
    "print(y)"
   ]
  },
  {
   "cell_type": "code",
   "execution_count": 107,
   "id": "4d2131f2",
   "metadata": {},
   "outputs": [
    {
     "data": {
      "text/plain": [
       "[10, 987, 320, 40, 50, 'Hare']"
      ]
     },
     "execution_count": 107,
     "metadata": {},
     "output_type": "execute_result"
    }
   ],
   "source": [
    "#### Mathematical operators in list\n",
    "# + concatinate\n",
    "# * repeat elements in list\n",
    "\n",
    "w"
   ]
  },
  {
   "cell_type": "code",
   "execution_count": 108,
   "id": "2a8f4fe1",
   "metadata": {},
   "outputs": [
    {
     "data": {
      "text/plain": [
       "[10, 100, 320, 40, 50, 'Hare']"
      ]
     },
     "execution_count": 108,
     "metadata": {},
     "output_type": "execute_result"
    }
   ],
   "source": [
    "y"
   ]
  },
  {
   "cell_type": "code",
   "execution_count": 109,
   "id": "381ad70e",
   "metadata": {},
   "outputs": [
    {
     "name": "stdout",
     "output_type": "stream",
     "text": [
      "[10, 987, 320, 40, 50, 'Hare', 10, 100, 320, 40, 50, 'Hare']\n"
     ]
    }
   ],
   "source": [
    "k = w+y\n",
    "print(k)"
   ]
  },
  {
   "cell_type": "code",
   "execution_count": 110,
   "id": "5df59c90",
   "metadata": {},
   "outputs": [
    {
     "name": "stdout",
     "output_type": "stream",
     "text": [
      "[10, 987, 320, 40, 50, 'Hare', 10, 987, 320, 40, 50, 'Hare']\n"
     ]
    }
   ],
   "source": [
    "f = w*2\n",
    "print(f)"
   ]
  },
  {
   "cell_type": "code",
   "execution_count": 116,
   "id": "5c2dce89",
   "metadata": {},
   "outputs": [
    {
     "name": "stdout",
     "output_type": "stream",
     "text": [
      "10\n",
      "987\n",
      "320\n",
      "40\n",
      "50\n",
      "Hare\n",
      "10\n",
      "100\n",
      "320\n",
      "40\n",
      "50\n",
      "Hare\n"
     ]
    }
   ],
   "source": [
    "k = w+y\n",
    "for i in k:\n",
    "    print(i)"
   ]
  },
  {
   "cell_type": "code",
   "execution_count": 37,
   "id": "ea5802c8",
   "metadata": {},
   "outputs": [
    {
     "name": "stdout",
     "output_type": "stream",
     "text": [
      "True\n",
      "True\n",
      "True\n",
      "False\n"
     ]
    }
   ],
   "source": [
    "# length should be same for all lists\n",
    "## relational operators/Comparison operators/Equaliser (>,<,>=,<=, ==, !=)\n",
    "\n",
    "x = [\"Akshay\", 80, \"Ruhi\", 90]\n",
    "y = [\"Akshay\", 90, \"Ruhi\", 80]\n",
    "z = [\"Akshay\", 80, \"Ruhi\", 90]\n",
    "\n",
    "print(x==z)\n",
    "print(x!=y)\n",
    "print(x<y)   ##### 1st element is same, so it hops to next element which is int value (Alphabate + int value)\n",
    "print(x>y)"
   ]
  },
  {
   "cell_type": "code",
   "execution_count": 121,
   "id": "347f40ac",
   "metadata": {},
   "outputs": [
    {
     "name": "stdout",
     "output_type": "stream",
     "text": [
      "False\n",
      "True\n",
      "False\n",
      "False\n"
     ]
    }
   ],
   "source": [
    "x1 = [70, 80, 90]\n",
    "y1 = [86, 90, 80]\n",
    "\n",
    "\n",
    "print(x1>y1)\n",
    "print(y1>=x1)\n",
    "print(y1<x1)\n",
    "print(y1<=x1)"
   ]
  },
  {
   "cell_type": "code",
   "execution_count": 124,
   "id": "f9f8f0a6",
   "metadata": {},
   "outputs": [
    {
     "data": {
      "text/plain": [
       "[70, 80, 90]"
      ]
     },
     "execution_count": 124,
     "metadata": {},
     "output_type": "execute_result"
    }
   ],
   "source": [
    "x1"
   ]
  },
  {
   "cell_type": "code",
   "execution_count": 127,
   "id": "17eddc16",
   "metadata": {},
   "outputs": [
    {
     "name": "stdout",
     "output_type": "stream",
     "text": [
      "True\n",
      "True\n",
      "False\n"
     ]
    }
   ],
   "source": [
    "## membership operators (it will return T/F if specified element is present in list)\n",
    "\n",
    "print(70 in x1)\n",
    "print(100 not in x1)\n",
    "print(75 in x1)"
   ]
  },
  {
   "cell_type": "code",
   "execution_count": 130,
   "id": "3ba8f93c",
   "metadata": {},
   "outputs": [
    {
     "name": "stdout",
     "output_type": "stream",
     "text": [
      "[]\n"
     ]
    }
   ],
   "source": [
    "x1.clear()   ### clear all elements from the list ad return empty list\n",
    "print(x1)"
   ]
  },
  {
   "cell_type": "markdown",
   "id": "c0830822",
   "metadata": {},
   "source": [
    "### Data Structure Tuple \n",
    "\n",
    "\n"
   ]
  },
  {
   "cell_type": "code",
   "execution_count": 131,
   "id": "b4e6fa5e",
   "metadata": {},
   "outputs": [
    {
     "name": "stdout",
     "output_type": "stream",
     "text": [
      "()\n",
      "<class 'tuple'>\n"
     ]
    }
   ],
   "source": [
    "# tuple is immutable (cant add or append or pop elements)\n",
    "# denoted by ()\n",
    "\n",
    "t = ()\n",
    "print(t)\n",
    "print(type(t))"
   ]
  },
  {
   "cell_type": "code",
   "execution_count": 136,
   "id": "3748b528",
   "metadata": {},
   "outputs": [
    {
     "name": "stdout",
     "output_type": "stream",
     "text": [
      "[38, 53, 54, 76, 98]\n"
     ]
    }
   ],
   "source": [
    "t = (76,98,54,38,53)\n",
    "t1 = sorted(t)\n",
    "\n",
    "print(t1)"
   ]
  },
  {
   "cell_type": "code",
   "execution_count": 139,
   "id": "9fca0367",
   "metadata": {},
   "outputs": [
    {
     "name": "stdout",
     "output_type": "stream",
     "text": [
      "38\n"
     ]
    }
   ],
   "source": [
    "a = min(t)\n",
    "print(a)"
   ]
  },
  {
   "cell_type": "code",
   "execution_count": 140,
   "id": "c495f5a6",
   "metadata": {},
   "outputs": [
    {
     "name": "stdout",
     "output_type": "stream",
     "text": [
      "98\n"
     ]
    }
   ],
   "source": [
    "b = max(t)\n",
    "print(b)"
   ]
  },
  {
   "cell_type": "code",
   "execution_count": 142,
   "id": "61dea575",
   "metadata": {},
   "outputs": [
    {
     "name": "stdout",
     "output_type": "stream",
     "text": [
      "(76, 98, 54, 38, 53, 8, 53, 54, 76, 98)\n"
     ]
    }
   ],
   "source": [
    "t1 = (8, 53, 54, 76, 98)\n",
    "c = t+t1\n",
    "print(c)"
   ]
  },
  {
   "cell_type": "code",
   "execution_count": 143,
   "id": "6ae35987",
   "metadata": {},
   "outputs": [
    {
     "name": "stdout",
     "output_type": "stream",
     "text": [
      "(76, 98, 54, 38, 53, 76, 98, 54, 38, 53, 76, 98, 54, 38, 53)\n"
     ]
    }
   ],
   "source": [
    "d = t*3\n",
    "print(d)"
   ]
  },
  {
   "cell_type": "code",
   "execution_count": 144,
   "id": "7f82a9d3",
   "metadata": {},
   "outputs": [
    {
     "data": {
      "text/plain": [
       "5"
      ]
     },
     "execution_count": 144,
     "metadata": {},
     "output_type": "execute_result"
    }
   ],
   "source": [
    "len(t)"
   ]
  },
  {
   "cell_type": "code",
   "execution_count": 145,
   "id": "f092710d",
   "metadata": {},
   "outputs": [
    {
     "data": {
      "text/plain": [
       "3"
      ]
     },
     "execution_count": 145,
     "metadata": {},
     "output_type": "execute_result"
    }
   ],
   "source": [
    "d.count(38)"
   ]
  },
  {
   "cell_type": "code",
   "execution_count": null,
   "id": "d2c19535",
   "metadata": {},
   "outputs": [],
   "source": []
  },
  {
   "cell_type": "code",
   "execution_count": null,
   "id": "0f5a7e33",
   "metadata": {},
   "outputs": [],
   "source": []
  }
 ],
 "metadata": {
  "kernelspec": {
   "display_name": "Python 3 (ipykernel)",
   "language": "python",
   "name": "python3"
  },
  "language_info": {
   "codemirror_mode": {
    "name": "ipython",
    "version": 3
   },
   "file_extension": ".py",
   "mimetype": "text/x-python",
   "name": "python",
   "nbconvert_exporter": "python",
   "pygments_lexer": "ipython3",
   "version": "3.11.5"
  }
 },
 "nbformat": 4,
 "nbformat_minor": 5
}
