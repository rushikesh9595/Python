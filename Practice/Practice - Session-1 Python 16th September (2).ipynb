{
 "cells": [
  {
   "cell_type": "code",
   "execution_count": 1,
   "id": "3f1171d4",
   "metadata": {},
   "outputs": [
    {
     "name": "stdout",
     "output_type": "stream",
     "text": [
      "Hello World!!!\n"
     ]
    }
   ],
   "source": [
    "A = \"Hello World!!!\"\n",
    "print(A)"
   ]
  },
  {
   "cell_type": "code",
   "execution_count": 1,
   "id": "a053d417",
   "metadata": {
    "collapsed": true
   },
   "outputs": [
    {
     "data": {
      "text/plain": [
       "['False',\n",
       " 'None',\n",
       " 'True',\n",
       " 'and',\n",
       " 'as',\n",
       " 'assert',\n",
       " 'async',\n",
       " 'await',\n",
       " 'break',\n",
       " 'class',\n",
       " 'continue',\n",
       " 'def',\n",
       " 'del',\n",
       " 'elif',\n",
       " 'else',\n",
       " 'except',\n",
       " 'finally',\n",
       " 'for',\n",
       " 'from',\n",
       " 'global',\n",
       " 'if',\n",
       " 'import',\n",
       " 'in',\n",
       " 'is',\n",
       " 'lambda',\n",
       " 'nonlocal',\n",
       " 'not',\n",
       " 'or',\n",
       " 'pass',\n",
       " 'raise',\n",
       " 'return',\n",
       " 'try',\n",
       " 'while',\n",
       " 'with',\n",
       " 'yield']"
      ]
     },
     "execution_count": 1,
     "metadata": {},
     "output_type": "execute_result"
    }
   ],
   "source": [
    "import keyword    ###shift+tab  ####These \"Reserved keywords\" you cant use in python as variables i.e clour in green\n",
    "keyword.kwlist"
   ]
  },
  {
   "cell_type": "code",
   "execution_count": 25,
   "id": "56c92ae2",
   "metadata": {},
   "outputs": [
    {
     "name": "stdout",
     "output_type": "stream",
     "text": [
      "Speed of the vehicle is 7.704338461538462 m/s\n",
      "7.704\n"
     ]
    }
   ],
   "source": [
    "Distance = 100.1564\n",
    "Time = 13\n",
    "Speed = (Distance/Time)\n",
    "print(\"Speed of the vehicle is\", Speed, \"m/s\")\n",
    "print(round(Speed, 3))"
   ]
  },
  {
   "cell_type": "markdown",
   "id": "6cf64f16",
   "metadata": {},
   "source": [
    "# Python Data Types"
   ]
  },
  {
   "cell_type": "code",
   "execution_count": null,
   "id": "5cb9b15c",
   "metadata": {},
   "outputs": [],
   "source": [
    "# 1. Integer\n",
    "# 2. Float\n",
    "# 3. String\n",
    "# 4. Boolean\n",
    "# 5. Complex"
   ]
  },
  {
   "cell_type": "markdown",
   "id": "04b9fb02",
   "metadata": {},
   "source": [
    "# Python Data Structure"
   ]
  },
  {
   "cell_type": "code",
   "execution_count": null,
   "id": "9cdc6e4c",
   "metadata": {},
   "outputs": [],
   "source": [
    "# 1. List\n",
    "# 2. Tuple\n",
    "# 3. Set\n",
    "# 4. Dictionary\n",
    "# 5. Range\n",
    "# 6. Bytes or Byte Array\n",
    "# 7. None"
   ]
  },
  {
   "cell_type": "code",
   "execution_count": 11,
   "id": "47b082d3",
   "metadata": {},
   "outputs": [
    {
     "name": "stdout",
     "output_type": "stream",
     "text": [
      "14\n",
      "0b1110\n"
     ]
    }
   ],
   "source": [
    "## Integer values takes different forms\n",
    "# 1. Decimal \n",
    "#2. Binary : Binary prefixed with 0b or 0B\n",
    "#3. Octal : prefixed with 0o or 0O\n",
    "#4.Hexadecimal : 0 to 9 and a to f : prefixed with 0x or 0X\n",
    "\n",
    "a = 0B1110             #### Binary to decimal\n",
    "a1 = bin(14)             ### Decimal to binary\n",
    "print(a)\n",
    "print(a1)\n",
    "\n",
    "\n",
    "\n"
   ]
  },
  {
   "cell_type": "code",
   "execution_count": 13,
   "id": "57d32381",
   "metadata": {},
   "outputs": [
    {
     "name": "stdout",
     "output_type": "stream",
     "text": [
      "0o116\n",
      "78\n"
     ]
    }
   ],
   "source": [
    "a2 = oct(78)       #Octal to decimal\n",
    "a3 = 0o116            #Decimal to octal\n",
    "print(a2)\n",
    "print(a3)"
   ]
  },
  {
   "cell_type": "code",
   "execution_count": 15,
   "id": "48f6d3e1",
   "metadata": {},
   "outputs": [
    {
     "name": "stdout",
     "output_type": "stream",
     "text": [
      "126245599\n",
      "0x304d\n"
     ]
    }
   ],
   "source": [
    "a4 = 0x7865ADF      ###### Hexa to Decimal\n",
    "a5 = hex(12365)           #### Decimal to hexa\n",
    "print(a4)\n",
    "print(a5)"
   ]
  },
  {
   "cell_type": "code",
   "execution_count": 29,
   "id": "108eabfe",
   "metadata": {},
   "outputs": [
    {
     "name": "stdout",
     "output_type": "stream",
     "text": [
      "Rushikesh\n"
     ]
    }
   ],
   "source": [
    "### Accessing the letters in string DT \n",
    "#1. By Index\n",
    "#2. By Slicing operator\n",
    "\n",
    "R = \"Rushikesh\"\n",
    "print(R)"
   ]
  },
  {
   "cell_type": "code",
   "execution_count": 31,
   "id": "edc62f63",
   "metadata": {},
   "outputs": [
    {
     "data": {
      "text/plain": [
       "'i'"
      ]
     },
     "execution_count": 31,
     "metadata": {},
     "output_type": "execute_result"
    }
   ],
   "source": [
    "#By Index\n",
    "R[0]\n",
    "R[4]"
   ]
  },
  {
   "cell_type": "code",
   "execution_count": 36,
   "id": "ed227749",
   "metadata": {},
   "outputs": [
    {
     "data": {
      "text/plain": [
       "'h'"
      ]
     },
     "execution_count": 36,
     "metadata": {},
     "output_type": "execute_result"
    }
   ],
   "source": [
    "R[-1]"
   ]
  },
  {
   "cell_type": "code",
   "execution_count": 38,
   "id": "fd81f294",
   "metadata": {},
   "outputs": [
    {
     "data": {
      "text/plain": [
       "'Rushik'"
      ]
     },
     "execution_count": 38,
     "metadata": {},
     "output_type": "execute_result"
    }
   ],
   "source": [
    "#By Slicing operator\n",
    "R[0:6]"
   ]
  },
  {
   "cell_type": "code",
   "execution_count": 42,
   "id": "bc6b2854",
   "metadata": {},
   "outputs": [
    {
     "data": {
      "text/plain": [
       "'Rh'"
      ]
     },
     "execution_count": 42,
     "metadata": {},
     "output_type": "execute_result"
    }
   ],
   "source": [
    "R[0:6:3]   #[Inclusive:Exclusive:Step] = [Includes the 0th position:Exclude the 6th position:Jump by 2 and give 3rd letter]"
   ]
  },
  {
   "cell_type": "code",
   "execution_count": 43,
   "id": "3a9dc407",
   "metadata": {},
   "outputs": [
    {
     "data": {
      "text/plain": [
       "'Rushikesh'"
      ]
     },
     "execution_count": 43,
     "metadata": {},
     "output_type": "execute_result"
    }
   ],
   "source": [
    "R[:]"
   ]
  },
  {
   "cell_type": "code",
   "execution_count": 40,
   "id": "f8c9f388",
   "metadata": {},
   "outputs": [
    {
     "data": {
      "text/plain": [
       "'hsekihsuR'"
      ]
     },
     "execution_count": 40,
     "metadata": {},
     "output_type": "execute_result"
    }
   ],
   "source": [
    "R[::-1]"
   ]
  },
  {
   "cell_type": "code",
   "execution_count": 44,
   "id": "32070bf3",
   "metadata": {},
   "outputs": [
    {
     "data": {
      "text/plain": [
       "'Rsieh'"
      ]
     },
     "execution_count": 44,
     "metadata": {},
     "output_type": "execute_result"
    }
   ],
   "source": [
    "R[0::2]"
   ]
  },
  {
   "cell_type": "code",
   "execution_count": 62,
   "id": "ddd71e71",
   "metadata": {},
   "outputs": [
    {
     "data": {
      "text/plain": [
       "'hsekihsuR'"
      ]
     },
     "execution_count": 62,
     "metadata": {},
     "output_type": "execute_result"
    }
   ],
   "source": [
    "R[::-1]"
   ]
  },
  {
   "cell_type": "code",
   "execution_count": 60,
   "id": "dfb792c4",
   "metadata": {},
   "outputs": [
    {
     "data": {
      "text/plain": [
       "'R'"
      ]
     },
     "execution_count": 60,
     "metadata": {},
     "output_type": "execute_result"
    }
   ],
   "source": [
    "R[:-8]"
   ]
  },
  {
   "cell_type": "code",
   "execution_count": null,
   "id": "6f9cc840",
   "metadata": {},
   "outputs": [],
   "source": []
  }
 ],
 "metadata": {
  "kernelspec": {
   "display_name": "Python 3 (ipykernel)",
   "language": "python",
   "name": "python3"
  },
  "language_info": {
   "codemirror_mode": {
    "name": "ipython",
    "version": 3
   },
   "file_extension": ".py",
   "mimetype": "text/x-python",
   "name": "python",
   "nbconvert_exporter": "python",
   "pygments_lexer": "ipython3",
   "version": "3.11.5"
  }
 },
 "nbformat": 4,
 "nbformat_minor": 5
}
