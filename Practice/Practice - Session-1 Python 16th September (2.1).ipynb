{
 "cells": [
  {
   "cell_type": "code",
   "execution_count": 1,
   "id": "44809684",
   "metadata": {},
   "outputs": [
    {
     "data": {
      "text/plain": [
       "50"
      ]
     },
     "execution_count": 1,
     "metadata": {},
     "output_type": "execute_result"
    }
   ],
   "source": [
    "25+25   ##### Press Shift + Enter"
   ]
  },
  {
   "cell_type": "code",
   "execution_count": 2,
   "id": "c4a45a6c",
   "metadata": {},
   "outputs": [],
   "source": [
    "# This is Python's First Session"
   ]
  },
  {
   "cell_type": "code",
   "execution_count": 4,
   "id": "19181c03",
   "metadata": {},
   "outputs": [
    {
     "data": {
      "text/plain": [
       "260.6222222222222"
      ]
     },
     "execution_count": 4,
     "metadata": {},
     "output_type": "execute_result"
    }
   ],
   "source": [
    "23456 /90"
   ]
  },
  {
   "cell_type": "code",
   "execution_count": 6,
   "id": "85e63dc6",
   "metadata": {},
   "outputs": [
    {
     "data": {
      "text/plain": [
       "'rahul'"
      ]
     },
     "execution_count": 6,
     "metadata": {},
     "output_type": "execute_result"
    }
   ],
   "source": [
    "\"rahul\""
   ]
  },
  {
   "cell_type": "code",
   "execution_count": 7,
   "id": "5e4f0a03",
   "metadata": {},
   "outputs": [
    {
     "data": {
      "text/plain": [
       "679.9"
      ]
     },
     "execution_count": 7,
     "metadata": {},
     "output_type": "execute_result"
    }
   ],
   "source": [
    "679.90"
   ]
  },
  {
   "cell_type": "code",
   "execution_count": null,
   "id": "68e7dffe",
   "metadata": {},
   "outputs": [],
   "source": [
    "Python is a general purpose high level programming language\n",
    "1991 feb,20"
   ]
  },
  {
   "cell_type": "raw",
   "id": "c0ca080e",
   "metadata": {},
   "source": [
    "How you can print Hello World ?\n",
    "public class HelloWorld{\n",
    "    psv main(string[] args){\n",
    "        SOP (\"Hello World\")\n",
    "    }\n",
    "}"
   ]
  },
  {
   "cell_type": "code",
   "execution_count": 8,
   "id": "7bdbe90f",
   "metadata": {},
   "outputs": [
    {
     "name": "stdout",
     "output_type": "stream",
     "text": [
      "Hello World\n"
     ]
    }
   ],
   "source": [
    "print(\"Hello World\")"
   ]
  },
  {
   "cell_type": "raw",
   "id": "f686ce6a",
   "metadata": {},
   "source": [
    "####  Identifiers in Pythons (Variables)\n",
    "A name in Python program is called Identifier\n",
    "It can be class name, funtion name, module name etc"
   ]
  },
  {
   "cell_type": "code",
   "execution_count": null,
   "id": "c9f245a3",
   "metadata": {},
   "outputs": [],
   "source": [
    "The only allowed characters in Python are  - \n",
    " - alphabet symbols (either lower or upper case)\n",
    " - digits (0 to 9) It will only be used in the suffix\n",
    " - underscore as a symbol _ \n",
    " - Python is case sensitive"
   ]
  },
  {
   "cell_type": "code",
   "execution_count": 10,
   "id": "f9e2039b",
   "metadata": {},
   "outputs": [
    {
     "name": "stdout",
     "output_type": "stream",
     "text": [
      "10\n"
     ]
    }
   ],
   "source": [
    "cash = 10\n",
    "print(cash)"
   ]
  },
  {
   "cell_type": "code",
   "execution_count": 11,
   "id": "dde7402c",
   "metadata": {},
   "outputs": [
    {
     "name": "stdout",
     "output_type": "stream",
     "text": [
      "10\n"
     ]
    }
   ],
   "source": [
    "abc = 10\n",
    "print(abc)"
   ]
  },
  {
   "cell_type": "code",
   "execution_count": 15,
   "id": "e01dcb22",
   "metadata": {},
   "outputs": [
    {
     "name": "stdout",
     "output_type": "stream",
     "text": [
      "1200\n"
     ]
    }
   ],
   "source": [
    "ab1232 = 1200\n",
    "print(ab1232)"
   ]
  },
  {
   "cell_type": "code",
   "execution_count": 19,
   "id": "ea6363f7",
   "metadata": {},
   "outputs": [
    {
     "name": "stdout",
     "output_type": "stream",
     "text": [
      "550\n"
     ]
    }
   ],
   "source": [
    "av_ = 550\n",
    "print(av_)"
   ]
  },
  {
   "cell_type": "code",
   "execution_count": 20,
   "id": "648da22b",
   "metadata": {},
   "outputs": [
    {
     "name": "stdout",
     "output_type": "stream",
     "text": [
      "Rahul\n"
     ]
    }
   ],
   "source": [
    "erew12wqerwe = \"Rahul\"\n",
    "print(erew12wqerwe)"
   ]
  },
  {
   "cell_type": "code",
   "execution_count": 22,
   "id": "56c28ea6",
   "metadata": {
    "collapsed": true
   },
   "outputs": [
    {
     "data": {
      "text/plain": [
       "['False',\n",
       " 'None',\n",
       " 'True',\n",
       " 'and',\n",
       " 'as',\n",
       " 'assert',\n",
       " 'async',\n",
       " 'await',\n",
       " 'break',\n",
       " 'class',\n",
       " 'continue',\n",
       " 'def',\n",
       " 'del',\n",
       " 'elif',\n",
       " 'else',\n",
       " 'except',\n",
       " 'finally',\n",
       " 'for',\n",
       " 'from',\n",
       " 'global',\n",
       " 'if',\n",
       " 'import',\n",
       " 'in',\n",
       " 'is',\n",
       " 'lambda',\n",
       " 'nonlocal',\n",
       " 'not',\n",
       " 'or',\n",
       " 'pass',\n",
       " 'raise',\n",
       " 'return',\n",
       " 'try',\n",
       " 'while',\n",
       " 'with',\n",
       " 'yield']"
      ]
     },
     "execution_count": 22,
     "metadata": {},
     "output_type": "execute_result"
    }
   ],
   "source": [
    "#Reserved Words - Python, you cannot consider reserved words as a variable name\n",
    "import keyword\n",
    "keyword.kwlist"
   ]
  },
  {
   "cell_type": "code",
   "execution_count": 29,
   "id": "8cc34c01",
   "metadata": {},
   "outputs": [
    {
     "name": "stdout",
     "output_type": "stream",
     "text": [
      "4.0 km/hr\n"
     ]
    }
   ],
   "source": [
    "#### Can you write a program to store distance , time and calculate the speed, by creating \n",
    "#### variables and storing that ?\n",
    "distance = 40\n",
    "time = 10\n",
    "speed = distance/time\n",
    "print(speed,\"km/hr\")"
   ]
  },
  {
   "cell_type": "code",
   "execution_count": 28,
   "id": "ed5748a4",
   "metadata": {},
   "outputs": [
    {
     "name": "stdout",
     "output_type": "stream",
     "text": [
      "140706196461576\n"
     ]
    }
   ],
   "source": [
    "print(id(distance))  #### id in an inbuilt python function to show the memory adress of the variable"
   ]
  },
  {
   "cell_type": "code",
   "execution_count": 32,
   "id": "a1ba7cf4",
   "metadata": {},
   "outputs": [],
   "source": [
    "distance = distance*2"
   ]
  },
  {
   "cell_type": "code",
   "execution_count": 33,
   "id": "ed7686f6",
   "metadata": {},
   "outputs": [
    {
     "name": "stdout",
     "output_type": "stream",
     "text": [
      "80\n"
     ]
    }
   ],
   "source": [
    "print(distance)"
   ]
  },
  {
   "cell_type": "code",
   "execution_count": null,
   "id": "40a65359",
   "metadata": {},
   "outputs": [],
   "source": [
    "print()   #### also an inbuilt functions in python to print your variables, values etx"
   ]
  },
  {
   "cell_type": "code",
   "execution_count": 34,
   "id": "301994a9",
   "metadata": {},
   "outputs": [
    {
     "name": "stdout",
     "output_type": "stream",
     "text": [
      "2.0\n"
     ]
    }
   ],
   "source": [
    "d = 10\n",
    "s = 5\n",
    "print(d/s)"
   ]
  },
  {
   "cell_type": "code",
   "execution_count": 35,
   "id": "2bfda7dd",
   "metadata": {},
   "outputs": [
    {
     "data": {
      "text/plain": [
       "'esc + H'"
      ]
     },
     "execution_count": 35,
     "metadata": {},
     "output_type": "execute_result"
    }
   ],
   "source": [
    "'esc + H'   #### For shortcut keys for Jupyter"
   ]
  },
  {
   "cell_type": "markdown",
   "id": "9dfaa850",
   "metadata": {},
   "source": [
    "# Python Data Types "
   ]
  },
  {
   "cell_type": "code",
   "execution_count": null,
   "id": "fcfaebb1",
   "metadata": {},
   "outputs": [],
   "source": [
    "# 1. int\n",
    "# 2. float\n",
    "# 3. string\n",
    "# 4. bool\n",
    "# 5. complex"
   ]
  },
  {
   "cell_type": "markdown",
   "id": "02923e84",
   "metadata": {},
   "source": [
    "# Python Data Structures"
   ]
  },
  {
   "cell_type": "code",
   "execution_count": null,
   "id": "66b63cc3",
   "metadata": {},
   "outputs": [],
   "source": [
    "# 1. List\n",
    "# 2. Tuple\n",
    "# 3. Set\n",
    "# 4. Dict\n",
    "# 5. Range\n",
    "# 6. Bytes and Byte Array\n",
    "# 7. None"
   ]
  },
  {
   "cell_type": "code",
   "execution_count": 36,
   "id": "889d4872",
   "metadata": {},
   "outputs": [
    {
     "data": {
      "text/plain": [
       "'C:\\\\Users\\\\HP'"
      ]
     },
     "execution_count": 36,
     "metadata": {},
     "output_type": "execute_result"
    }
   ],
   "source": [
    "pwd   #### Present working Directory .ipynb extension"
   ]
  },
  {
   "cell_type": "code",
   "execution_count": 37,
   "id": "40649fbc",
   "metadata": {},
   "outputs": [
    {
     "name": "stdout",
     "output_type": "stream",
     "text": [
      "10\n",
      "<class 'int'>\n"
     ]
    }
   ],
   "source": [
    "#### Int Data Types - Whole Numbers (Integral values)\n",
    "a  = 10\n",
    "print(a)\n",
    "print(type(a))   ##### type is an inbuilt python function to check the data types"
   ]
  },
  {
   "cell_type": "code",
   "execution_count": 38,
   "id": "4554b21b",
   "metadata": {},
   "outputs": [],
   "source": [
    "#### We can also represent int values in different forms - \n",
    "# 1. Decimal Form\n",
    "# 2. Binary Form\n",
    "# 3. Octal Form\n",
    "# 4. Hexa Decimal Form"
   ]
  },
  {
   "cell_type": "code",
   "execution_count": null,
   "id": "d8ff4d19",
   "metadata": {},
   "outputs": [],
   "source": [
    "Decimal Form Should have a base of 10\n",
    "The allowed digits in this form is from 0 to 9"
   ]
  },
  {
   "cell_type": "code",
   "execution_count": 39,
   "id": "b78ddfb8",
   "metadata": {},
   "outputs": [],
   "source": [
    "# Binary Form (base - 2)\n",
    "# The allowed digits are 0 and 1\n",
    "# Literal Value will be prefixed with 0b or 0B"
   ]
  },
  {
   "cell_type": "code",
   "execution_count": 44,
   "id": "dfec1c9e",
   "metadata": {},
   "outputs": [
    {
     "name": "stdout",
     "output_type": "stream",
     "text": [
      "14\n",
      "0b1110\n"
     ]
    }
   ],
   "source": [
    "a = 0B01110\n",
    "a1 = bin(14)\n",
    "print(a)\n",
    "print(a1)"
   ]
  },
  {
   "cell_type": "code",
   "execution_count": 41,
   "id": "1a713879",
   "metadata": {},
   "outputs": [],
   "source": [
    "# Octal Formv(base -8)\n",
    "# Allowed digits are from 0 to 7\n",
    "# Prefixed with 0o or 0O"
   ]
  },
  {
   "cell_type": "code",
   "execution_count": 43,
   "id": "171834a8",
   "metadata": {},
   "outputs": [
    {
     "name": "stdout",
     "output_type": "stream",
     "text": [
      "83\n",
      "0o123\n"
     ]
    }
   ],
   "source": [
    "w = 0o123\n",
    "print(w)\n",
    "w1 = oct(83)\n",
    "print(w1)"
   ]
  },
  {
   "cell_type": "code",
   "execution_count": 45,
   "id": "b473302b",
   "metadata": {},
   "outputs": [],
   "source": [
    "#### Hexa Decimal Values (base - 16)\n",
    "# Allowed digits - 0 to 9 , a-f (both lower and upper case are allowed)\n",
    "# Prefixed with 0x, 0X\n",
    "# type conversion  - hex()"
   ]
  },
  {
   "cell_type": "code",
   "execution_count": 4,
   "id": "be8a2fc0",
   "metadata": {},
   "outputs": [
    {
     "name": "stdout",
     "output_type": "stream",
     "text": [
      "64144\n"
     ]
    }
   ],
   "source": [
    "h = 0xFA90\n",
    "print(h)"
   ]
  },
  {
   "cell_type": "code",
   "execution_count": 47,
   "id": "f319e5de",
   "metadata": {},
   "outputs": [],
   "source": [
    "##### Go to Google and Do your research on this how the values are getting calculated"
   ]
  },
  {
   "cell_type": "code",
   "execution_count": 48,
   "id": "6b5ff167",
   "metadata": {
    "scrolled": true
   },
   "outputs": [
    {
     "name": "stdout",
     "output_type": "stream",
     "text": [
      "10.24\n",
      "<class 'float'>\n"
     ]
    }
   ],
   "source": [
    "#### Float Data Types - (decimal values)\n",
    "s = 10.24\n",
    "print(s)\n",
    "print(type(s))"
   ]
  },
  {
   "cell_type": "code",
   "execution_count": 50,
   "id": "e5eeaafc",
   "metadata": {},
   "outputs": [
    {
     "name": "stdout",
     "output_type": "stream",
     "text": [
      "10\n",
      "10.0\n",
      "10\n"
     ]
    }
   ],
   "source": [
    "w = 10\n",
    "print(w)\n",
    "f = float(w)\n",
    "print(f)\n",
    "g = int(f)\n",
    "print(g)"
   ]
  },
  {
   "cell_type": "code",
   "execution_count": 6,
   "id": "73b40288",
   "metadata": {},
   "outputs": [
    {
     "name": "stdout",
     "output_type": "stream",
     "text": [
      "45632.236589\n",
      "45632.237\n"
     ]
    }
   ],
   "source": [
    "k = 45632.236589\n",
    "print(k)\n",
    "print(round(k,3))   ##### Round is an inbuilt function to control the decimal places"
   ]
  },
  {
   "cell_type": "code",
   "execution_count": 7,
   "id": "b6110c40",
   "metadata": {},
   "outputs": [
    {
     "name": "stdout",
     "output_type": "stream",
     "text": [
      "Shubham\n",
      "<class 'str'>\n"
     ]
    }
   ],
   "source": [
    "#### ---- String Data Type in Python  --- \n",
    "s = \"Shubham\"\n",
    "print(s)\n",
    "print(type(s))"
   ]
  },
  {
   "cell_type": "code",
   "execution_count": 8,
   "id": "250075ab",
   "metadata": {},
   "outputs": [
    {
     "ename": "SyntaxError",
     "evalue": "invalid syntax (1533135978.py, line 2)",
     "output_type": "error",
     "traceback": [
      "\u001b[1;36m  Cell \u001b[1;32mIn[8], line 2\u001b[1;36m\u001b[0m\n\u001b[1;33m    1. By Index\u001b[0m\n\u001b[1;37m       ^\u001b[0m\n\u001b[1;31mSyntaxError\u001b[0m\u001b[1;31m:\u001b[0m invalid syntax\n"
     ]
    }
   ],
   "source": [
    "##### You can access the letters of the String - \n",
    "1. By Index\n",
    "2. By Using Slice Operator\n",
    "##### Python Index starts from 0"
   ]
  },
  {
   "cell_type": "code",
   "execution_count": 9,
   "id": "4acf75cf",
   "metadata": {},
   "outputs": [
    {
     "name": "stdout",
     "output_type": "stream",
     "text": [
      "Python\n",
      "6\n"
     ]
    }
   ],
   "source": [
    "k = \"Python\"\n",
    "print(k)\n",
    "print(len(k))   ###### Length of the Letter python"
   ]
  },
  {
   "cell_type": "code",
   "execution_count": 10,
   "id": "c9707d42",
   "metadata": {},
   "outputs": [
    {
     "data": {
      "text/plain": [
       "'P'"
      ]
     },
     "execution_count": 10,
     "metadata": {},
     "output_type": "execute_result"
    }
   ],
   "source": [
    "k[0]    ##### To access anything, we have to use a []"
   ]
  },
  {
   "cell_type": "code",
   "execution_count": 11,
   "id": "949132f3",
   "metadata": {},
   "outputs": [
    {
     "data": {
      "text/plain": [
       "'t'"
      ]
     },
     "execution_count": 11,
     "metadata": {},
     "output_type": "execute_result"
    }
   ],
   "source": [
    "k[2]"
   ]
  },
  {
   "cell_type": "code",
   "execution_count": 12,
   "id": "26303fbc",
   "metadata": {},
   "outputs": [
    {
     "data": {
      "text/plain": [
       "'o'"
      ]
     },
     "execution_count": 12,
     "metadata": {},
     "output_type": "execute_result"
    }
   ],
   "source": [
    "k[-2]"
   ]
  },
  {
   "cell_type": "code",
   "execution_count": 16,
   "id": "1748fefe",
   "metadata": {},
   "outputs": [
    {
     "data": {
      "text/plain": [
       "'Ph'"
      ]
     },
     "execution_count": 16,
     "metadata": {},
     "output_type": "execute_result"
    }
   ],
   "source": [
    "k[0:5:3]  #### By slice Operator  [Inclusive : Exclusive : step]"
   ]
  },
  {
   "cell_type": "code",
   "execution_count": 20,
   "id": "fe588327",
   "metadata": {},
   "outputs": [
    {
     "data": {
      "text/plain": [
       "'n'"
      ]
     },
     "execution_count": 20,
     "metadata": {},
     "output_type": "execute_result"
    }
   ],
   "source": [
    "k[-1]"
   ]
  },
  {
   "cell_type": "code",
   "execution_count": 24,
   "id": "16ee8198",
   "metadata": {},
   "outputs": [
    {
     "name": "stdout",
     "output_type": "stream",
     "text": [
      "nohtyP\n",
      "6\n"
     ]
    }
   ],
   "source": [
    "a = k[::-1]\n",
    "print(a)\n",
    "print(len(a))"
   ]
  },
  {
   "cell_type": "code",
   "execution_count": 23,
   "id": "71d572b4",
   "metadata": {},
   "outputs": [
    {
     "data": {
      "text/plain": [
       "'P'"
      ]
     },
     "execution_count": 23,
     "metadata": {},
     "output_type": "execute_result"
    }
   ],
   "source": [
    "a[-1]"
   ]
  },
  {
   "cell_type": "code",
   "execution_count": null,
   "id": "9c572367",
   "metadata": {},
   "outputs": [],
   "source": [
    "# #####  In forward Direction - \n",
    "# default value for Begin  - 0\n",
    "# default value for End - (Total length of the string - 1), length = start from 1 and not =\n",
    "# default value for step  - 1, jump by 2 means it will skip single middle value"
   ]
  },
  {
   "cell_type": "code",
   "execution_count": null,
   "id": "7397ff09",
   "metadata": {},
   "outputs": [],
   "source": [
    "### In backward Direction - \n",
    "default value for Begin - -1\n",
    "default value for end  - (-length of the string )"
   ]
  },
  {
   "cell_type": "code",
   "execution_count": 77,
   "id": "e1ea21ed",
   "metadata": {},
   "outputs": [
    {
     "name": "stdout",
     "output_type": "stream",
     "text": [
      "Python is a Programming language\n",
      "<class 'str'>\n",
      "32\n"
     ]
    }
   ],
   "source": [
    "p  = \"Python is a Programming language\"\n",
    "print(p)\n",
    "print(type(p))\n",
    "print(len(p))"
   ]
  },
  {
   "cell_type": "code",
   "execution_count": 84,
   "id": "70045260",
   "metadata": {},
   "outputs": [
    {
     "data": {
      "text/plain": [
       "'to saPorm'"
      ]
     },
     "execution_count": 84,
     "metadata": {},
     "output_type": "execute_result"
    }
   ],
   "source": [
    "p[2:20:2]"
   ]
  },
  {
   "cell_type": "code",
   "execution_count": 89,
   "id": "3ea4b497",
   "metadata": {},
   "outputs": [
    {
     "data": {
      "text/plain": [
       "'egaugnal gnimmargorP a si nohtyP'"
      ]
     },
     "execution_count": 89,
     "metadata": {},
     "output_type": "execute_result"
    }
   ],
   "source": [
    "p[::-1]"
   ]
  },
  {
   "cell_type": "code",
   "execution_count": 96,
   "id": "24ada785",
   "metadata": {},
   "outputs": [
    {
     "data": {
      "text/plain": [
       "'Pto saPormi'"
      ]
     },
     "execution_count": 96,
     "metadata": {},
     "output_type": "execute_result"
    }
   ],
   "source": [
    "p[:-10:2]"
   ]
  },
  {
   "cell_type": "code",
   "execution_count": null,
   "id": "c84f7861",
   "metadata": {},
   "outputs": [],
   "source": [
    "##### Indentifier in Python\n",
    "##### Rule and Keywords in python\n",
    "##### Data Types  - Int, Float , String\n",
    "#### How python works  - Case Sentivity oin Python\n",
    "#### Type Conversions - int (Decimal, binary,oct, hex)\n",
    "#### Slicing string operators"
   ]
  }
 ],
 "metadata": {
  "kernelspec": {
   "display_name": "Python 3 (ipykernel)",
   "language": "python",
   "name": "python3"
  },
  "language_info": {
   "codemirror_mode": {
    "name": "ipython",
    "version": 3
   },
   "file_extension": ".py",
   "mimetype": "text/x-python",
   "name": "python",
   "nbconvert_exporter": "python",
   "pygments_lexer": "ipython3",
   "version": "3.11.5"
  }
 },
 "nbformat": 4,
 "nbformat_minor": 5
}
