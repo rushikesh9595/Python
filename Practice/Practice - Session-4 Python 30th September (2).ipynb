{
 "cells": [
  {
   "cell_type": "markdown",
   "id": "080256b9",
   "metadata": {},
   "source": [
    "# SET Data Structure"
   ]
  },
  {
   "cell_type": "code",
   "execution_count": null,
   "id": "d4da7e58",
   "metadata": {},
   "outputs": [],
   "source": [
    "# {}: representation of set must be filled with values otherwise only empty {} is dictionary\n",
    "# If you want to represent unique values as a single entity you should go for set\n",
    "# Insertion order is not preserved and set can be sorted\n",
    "# Math operations can be performed\n",
    "# Set objects are mutable so changes can be performed\n",
    "# Indexing and slicing are not allowed\n",
    "# Duplicates are not allowed"
   ]
  },
  {
   "cell_type": "code",
   "execution_count": 1,
   "id": "10eb5d66",
   "metadata": {},
   "outputs": [
    {
     "name": "stdout",
     "output_type": "stream",
     "text": [
      "{10, 20, 30}\n",
      "<class 'set'>\n"
     ]
    }
   ],
   "source": [
    "s = {10, 20, 30}\n",
    "print(s)\n",
    "print(type(s))"
   ]
  },
  {
   "cell_type": "code",
   "execution_count": 7,
   "id": "b7d24ac7",
   "metadata": {},
   "outputs": [
    {
     "name": "stdout",
     "output_type": "stream",
     "text": [
      "{89, 65, 45}\n",
      "<class 'set'>\n"
     ]
    }
   ],
   "source": [
    "l = set([65, 45, 89])\n",
    "print(l)\n",
    "print(type(l))"
   ]
  },
  {
   "cell_type": "code",
   "execution_count": 2,
   "id": "a752a1db",
   "metadata": {},
   "outputs": [
    {
     "name": "stdout",
     "output_type": "stream",
     "text": [
      "{'Rushi', 10, 20, 30}\n"
     ]
    }
   ],
   "source": [
    "r = {\"Sakshi\", 909,100}\n",
    "s.add (\"Rushi\")    ### to add an element or value in set\n",
    "print(s)"
   ]
  },
  {
   "cell_type": "code",
   "execution_count": 3,
   "id": "66da3b76",
   "metadata": {},
   "outputs": [
    {
     "name": "stdout",
     "output_type": "stream",
     "text": [
      "{20, 100, 'Sakshi', 10, 'Rushi', 909, 30}\n"
     ]
    }
   ],
   "source": [
    "s.update(r)     #### update function adds multiple values to the set, elements must be in range or list\n",
    "print(s)"
   ]
  },
  {
   "cell_type": "code",
   "execution_count": 17,
   "id": "0f59012a",
   "metadata": {},
   "outputs": [
    {
     "name": "stdout",
     "output_type": "stream",
     "text": [
      "{65, 10, 45, 'Rushi', 20, 89, 30}\n"
     ]
    }
   ],
   "source": [
    "print(s)"
   ]
  },
  {
   "cell_type": "code",
   "execution_count": 9,
   "id": "cfdfebef",
   "metadata": {},
   "outputs": [
    {
     "name": "stdout",
     "output_type": "stream",
     "text": [
      "{'Rushi', 65, 20, 89, 10, 45, 30}\n"
     ]
    }
   ],
   "source": [
    "p = s.copy()\n",
    "print(p)"
   ]
  },
  {
   "cell_type": "code",
   "execution_count": 12,
   "id": "29c8d430",
   "metadata": {},
   "outputs": [
    {
     "name": "stdout",
     "output_type": "stream",
     "text": [
      "{'Rushi', 40, 10, 45, 20, 89, 30}\n"
     ]
    }
   ],
   "source": [
    "p.pop()    ### removes any random element or string\n",
    "print(p)"
   ]
  },
  {
   "cell_type": "code",
   "execution_count": 13,
   "id": "bddf1c97",
   "metadata": {},
   "outputs": [
    {
     "name": "stdout",
     "output_type": "stream",
     "text": [
      "{'Rushi', 40, 45, 20, 89, 30}\n"
     ]
    }
   ],
   "source": [
    "p.remove(10)     #### removes specified element or string\n",
    "print(p)"
   ]
  },
  {
   "cell_type": "code",
   "execution_count": 19,
   "id": "daf43b97",
   "metadata": {},
   "outputs": [
    {
     "name": "stdout",
     "output_type": "stream",
     "text": [
      "{'Rushi', 65, 20, 89, 10, 45, 30}\n",
      "{65, 10, 45, 20, 30}\n"
     ]
    }
   ],
   "source": [
    "print(p)\n",
    "r = {\"Rushi\",40, 89}\n",
    "rm = p - r\n",
    "print(rm)"
   ]
  },
  {
   "cell_type": "code",
   "execution_count": 20,
   "id": "8b57a4b2",
   "metadata": {},
   "outputs": [
    {
     "name": "stdout",
     "output_type": "stream",
     "text": [
      "{65, 10, 45, 20}\n",
      "{65, 10, 45, 20}\n"
     ]
    }
   ],
   "source": [
    "rm.discard(30)\n",
    "print(rm)\n",
    "rm.discard(100)   #### discarding of unidentified value wont give any error unlike remove function\n",
    "print(rm)"
   ]
  },
  {
   "cell_type": "code",
   "execution_count": 20,
   "id": "655592fd",
   "metadata": {},
   "outputs": [
    {
     "name": "stdout",
     "output_type": "stream",
     "text": [
      "set()\n"
     ]
    }
   ],
   "source": [
    "rm.clear()    ##this will remove all elements in set\n",
    "print(rm)"
   ]
  },
  {
   "cell_type": "code",
   "execution_count": 23,
   "id": "3d48ecf5",
   "metadata": {},
   "outputs": [
    {
     "name": "stdout",
     "output_type": "stream",
     "text": [
      "{40, 50, 20, 30}\n",
      "{40, 50, 60, 70}\n"
     ]
    }
   ],
   "source": [
    "x = {20, 30, 40, 50}\n",
    "y = {40, 50, 60, 70}\n",
    "print(x)\n",
    "print(y)        ## insertion order is not preserved"
   ]
  },
  {
   "cell_type": "code",
   "execution_count": 24,
   "id": "e4ab8a0b",
   "metadata": {},
   "outputs": [
    {
     "name": "stdout",
     "output_type": "stream",
     "text": [
      "{70, 40, 50, 20, 60, 30}\n",
      "{70, 40, 50, 20, 60, 30}\n"
     ]
    }
   ],
   "source": [
    "z = x.union(y)     ### union returns all the values present in both sets including common (x/y)\n",
    "z3 = x | y\n",
    "print(z)         ## Duplicates are not allowed\n",
    "print(z3)"
   ]
  },
  {
   "cell_type": "code",
   "execution_count": 27,
   "id": "8348ff53",
   "metadata": {},
   "outputs": [
    {
     "name": "stdout",
     "output_type": "stream",
     "text": [
      "{40, 50}\n",
      "{40, 50}\n"
     ]
    }
   ],
   "source": [
    "z1 = x.intersection(y)    ### returns only common values\n",
    "z2 = x&y\n",
    "print(z1)\n",
    "print(z2)"
   ]
  },
  {
   "cell_type": "code",
   "execution_count": 29,
   "id": "27d6c801",
   "metadata": {},
   "outputs": [
    {
     "name": "stdout",
     "output_type": "stream",
     "text": [
      "{20, 30}\n",
      "{60, 70}\n"
     ]
    }
   ],
   "source": [
    "z3 = x.difference(y)    ## returns elements in x\n",
    "z4 = y.difference(x)    ## returns elements in y\n",
    "print(z3)\n",
    "print(z4)"
   ]
  },
  {
   "cell_type": "code",
   "execution_count": 31,
   "id": "c4618622",
   "metadata": {},
   "outputs": [
    {
     "name": "stdout",
     "output_type": "stream",
     "text": [
      "{20, 70, 60, 30}\n"
     ]
    }
   ],
   "source": [
    "z5 = x.symmetric_difference(y)    ## It will return uncommon elements from both sets but removes common elements from both sets\n",
    "print(z5)"
   ]
  },
  {
   "cell_type": "code",
   "execution_count": 4,
   "id": "94f3d94e",
   "metadata": {},
   "outputs": [
    {
     "name": "stdout",
     "output_type": "stream",
     "text": [
      "{'sonali'}\n",
      "{'o', 'i', 'l', 'n', 'a', 's'}\n"
     ]
    }
   ],
   "source": [
    "a = {\"sonali\"}\n",
    "a1 = set(\"sonali\")\n",
    "print(a)\n",
    "print(a1)"
   ]
  },
  {
   "cell_type": "code",
   "execution_count": 26,
   "id": "5ac05d58",
   "metadata": {},
   "outputs": [
    {
     "name": "stdout",
     "output_type": "stream",
     "text": [
      "True\n",
      "True\n"
     ]
    }
   ],
   "source": [
    "a2 = 'l' in a1\n",
    "a3 = 'k' not in a1\n",
    "print(a2)\n",
    "print(a3)"
   ]
  },
  {
   "cell_type": "markdown",
   "id": "58b0703d",
   "metadata": {},
   "source": [
    "# Dictionary Data Structure"
   ]
  },
  {
   "cell_type": "code",
   "execution_count": 10,
   "id": "379dd35c",
   "metadata": {},
   "outputs": [
    {
     "name": "stdout",
     "output_type": "stream",
     "text": [
      "{}\n",
      "<class 'dict'>\n"
     ]
    }
   ],
   "source": [
    "## Its a key and value pair {1: \"Rushikesh\"}\n",
    "## Duplicate keys are not allowed but duplicate values are allowed\n",
    "## Insertion order is not preserved\n",
    "## Heterogenous dtypes (Strings, integers) are allowed\n",
    "## indexing and slicing cant be done but using keys we can index and add values\n",
    "\n",
    "d = {}\n",
    "print(d)\n",
    "print(type(d))"
   ]
  },
  {
   "cell_type": "code",
   "execution_count": 14,
   "id": "cba1459f",
   "metadata": {},
   "outputs": [
    {
     "name": "stdout",
     "output_type": "stream",
     "text": [
      "{1: 'Rushi', 2: 'Rushikesh', 3: 45}\n"
     ]
    }
   ],
   "source": [
    "d = {1: \"Rushi\", 2: \"Rushikesh\", 3: 45}\n",
    "print(d)"
   ]
  },
  {
   "cell_type": "code",
   "execution_count": 15,
   "id": "dd470819",
   "metadata": {},
   "outputs": [
    {
     "data": {
      "text/plain": [
       "'Rushi'"
      ]
     },
     "execution_count": 15,
     "metadata": {},
     "output_type": "execute_result"
    }
   ],
   "source": [
    "d[1]    #### Indexing using keys"
   ]
  },
  {
   "cell_type": "code",
   "execution_count": 16,
   "id": "06ce0099",
   "metadata": {},
   "outputs": [
    {
     "name": "stdout",
     "output_type": "stream",
     "text": [
      "{1: 'Rushi', 2: 'Rushikesh', 3: 45, 4: 'Bose'}\n"
     ]
    }
   ],
   "source": [
    "d[4] = \"Bose\"      ### Adding values using key\n",
    "print(d)"
   ]
  },
  {
   "cell_type": "code",
   "execution_count": 17,
   "id": "72453fc6",
   "metadata": {},
   "outputs": [
    {
     "name": "stdout",
     "output_type": "stream",
     "text": [
      "{1: 'Rushi', 2: 'Rushikesh', 3: 45, 4: 'Bose', 9: 'Hmm'}\n"
     ]
    }
   ],
   "source": [
    "d[9] = \"Hmm\"\n",
    "print(d)\n",
    "    "
   ]
  },
  {
   "cell_type": "code",
   "execution_count": 18,
   "id": "e04587aa",
   "metadata": {},
   "outputs": [
    {
     "name": "stdout",
     "output_type": "stream",
     "text": [
      "{1: 'Rushi', 2: 'Rushikesh', 3: 45, 9: 'Hmm'}\n"
     ]
    }
   ],
   "source": [
    "del d[4]\n",
    "print(d)"
   ]
  },
  {
   "cell_type": "code",
   "execution_count": 19,
   "id": "f50e1cdd",
   "metadata": {},
   "outputs": [
    {
     "name": "stdout",
     "output_type": "stream",
     "text": [
      "{'Ram': 'Sita', 'Radha': 'Krishna', 1: 'Rushi', 2: 'Rushikesh', 3: 45, 9: 'Hmm'}\n"
     ]
    }
   ],
   "source": [
    "n = {\"Ram\":\"Sita\", \"Radha\":\"Krishna\"}    #### you can have string and values are keys\n",
    "n.update(d)\n",
    "print(n)"
   ]
  },
  {
   "cell_type": "code",
   "execution_count": 11,
   "id": "9b646e5a",
   "metadata": {},
   "outputs": [
    {
     "name": "stdout",
     "output_type": "stream",
     "text": [
      "{'Ram': ['Sita', 'laxman'], 'Radha': ['Krishna', 'Sudama']}\n"
     ]
    }
   ],
   "source": [
    "m = {\"Ram\":[\"Sita\",\"laxman\"],\"Radha\":[\"Krishna\",\"Sudama\"]}   ###### can have multiple values in one key\n",
    "print(m)"
   ]
  },
  {
   "cell_type": "code",
   "execution_count": 13,
   "id": "3504c9c7",
   "metadata": {},
   "outputs": [
    {
     "name": "stdout",
     "output_type": "stream",
     "text": [
      "{}\n"
     ]
    }
   ],
   "source": [
    "m.clear()\n",
    "print(m)"
   ]
  },
  {
   "cell_type": "code",
   "execution_count": 14,
   "id": "a870e97d",
   "metadata": {},
   "outputs": [
    {
     "data": {
      "text/plain": [
       "4"
      ]
     },
     "execution_count": 14,
     "metadata": {},
     "output_type": "execute_result"
    }
   ],
   "source": [
    "len(d)"
   ]
  },
  {
   "cell_type": "code",
   "execution_count": 15,
   "id": "802d91d7",
   "metadata": {},
   "outputs": [
    {
     "data": {
      "text/plain": [
       "dict_keys([1, 2, 3, 9])"
      ]
     },
     "execution_count": 15,
     "metadata": {},
     "output_type": "execute_result"
    }
   ],
   "source": [
    "d.keys()     ## gives only keys present in dictionary"
   ]
  },
  {
   "cell_type": "code",
   "execution_count": 16,
   "id": "610122d9",
   "metadata": {},
   "outputs": [
    {
     "data": {
      "text/plain": [
       "dict_values(['Rushi', 'Rushikesh', 45, 'Hmm'])"
      ]
     },
     "execution_count": 16,
     "metadata": {},
     "output_type": "execute_result"
    }
   ],
   "source": [
    "d.values()   ###Gives only values present in dictionary"
   ]
  },
  {
   "cell_type": "code",
   "execution_count": 17,
   "id": "e79a3f63",
   "metadata": {},
   "outputs": [
    {
     "data": {
      "text/plain": [
       "dict_items([(1, 'Rushi'), (2, 'Rushikesh'), (3, 45), (9, 'Hmm')])"
      ]
     },
     "execution_count": 17,
     "metadata": {},
     "output_type": "execute_result"
    }
   ],
   "source": [
    "d.items()    #### gives both values and keys present in dictionary"
   ]
  },
  {
   "cell_type": "code",
   "execution_count": 18,
   "id": "0dc01d9c",
   "metadata": {},
   "outputs": [
    {
     "data": {
      "text/plain": [
       "'Rushikesh'"
      ]
     },
     "execution_count": 18,
     "metadata": {},
     "output_type": "execute_result"
    }
   ],
   "source": [
    "d.pop(2)   ### It will remove specified element"
   ]
  },
  {
   "cell_type": "code",
   "execution_count": 19,
   "id": "6b47eeea",
   "metadata": {},
   "outputs": [
    {
     "data": {
      "text/plain": [
       "{1: 'Rushi', 3: 45, 9: 'Hmm'}"
      ]
     },
     "execution_count": 19,
     "metadata": {},
     "output_type": "execute_result"
    }
   ],
   "source": [
    "d"
   ]
  },
  {
   "cell_type": "code",
   "execution_count": 20,
   "id": "a148961c",
   "metadata": {},
   "outputs": [
    {
     "data": {
      "text/plain": [
       "(9, 'Hmm')"
      ]
     },
     "execution_count": 20,
     "metadata": {},
     "output_type": "execute_result"
    }
   ],
   "source": [
    "d.popitem()    #### Removes any random element from dictionary"
   ]
  },
  {
   "cell_type": "code",
   "execution_count": 21,
   "id": "49c9b23f",
   "metadata": {},
   "outputs": [
    {
     "name": "stdout",
     "output_type": "stream",
     "text": [
      "{1: 'Rushi', 3: 45}\n"
     ]
    }
   ],
   "source": [
    "print(d)"
   ]
  },
  {
   "cell_type": "code",
   "execution_count": 22,
   "id": "16befe4e",
   "metadata": {},
   "outputs": [
    {
     "name": "stdout",
     "output_type": "stream",
     "text": [
      "{1: 'Rushi', 3: 45}\n"
     ]
    }
   ],
   "source": [
    "e = d.copy()    #### Copies the dictionary in different variable\n",
    "print(e)"
   ]
  },
  {
   "cell_type": "markdown",
   "id": "0e96497b",
   "metadata": {},
   "source": [
    "# Range Data Structure"
   ]
  },
  {
   "cell_type": "code",
   "execution_count": 23,
   "id": "73ef5c20",
   "metadata": {},
   "outputs": [
    {
     "data": {
      "text/plain": [
       "[0, 1, 2, 3, 4, 5, 6, 7, 8, 9, 10, 11, 12, 13, 14]"
      ]
     },
     "execution_count": 23,
     "metadata": {},
     "output_type": "execute_result"
    }
   ],
   "source": [
    "##### It basically gives range of data\n",
    "\n",
    "list(range(15))"
   ]
  },
  {
   "cell_type": "code",
   "execution_count": 24,
   "id": "c1fab2cf",
   "metadata": {},
   "outputs": [
    {
     "data": {
      "text/plain": [
       "[1, 2, 3, 4, 5, 6, 7, 8, 9, 10, 11, 12, 13, 14]"
      ]
     },
     "execution_count": 24,
     "metadata": {},
     "output_type": "execute_result"
    }
   ],
   "source": [
    "list(range(1,15))"
   ]
  },
  {
   "cell_type": "code",
   "execution_count": 28,
   "id": "d2756c5f",
   "metadata": {},
   "outputs": [
    {
     "data": {
      "text/plain": [
       "(1, 4, 7, 10, 13)"
      ]
     },
     "execution_count": 28,
     "metadata": {},
     "output_type": "execute_result"
    }
   ],
   "source": [
    "tuple(range(1,15,3))"
   ]
  },
  {
   "cell_type": "code",
   "execution_count": 20,
   "id": "c985d5bb",
   "metadata": {},
   "outputs": [
    {
     "data": {
      "text/plain": [
       "{0, 1, 2, 3, 4, 5, 6, 7, 8, 9, 10, 11, 12, 13, 14}"
      ]
     },
     "execution_count": 20,
     "metadata": {},
     "output_type": "execute_result"
    }
   ],
   "source": [
    "set(range(15))"
   ]
  },
  {
   "cell_type": "code",
   "execution_count": 29,
   "id": "7a1d57cc",
   "metadata": {},
   "outputs": [
    {
     "name": "stdout",
     "output_type": "stream",
     "text": [
      "1\n",
      "5\n",
      "9\n",
      "13\n"
     ]
    }
   ],
   "source": [
    "for a in range(1,15,4):\n",
    "    print(a)"
   ]
  },
  {
   "cell_type": "code",
   "execution_count": 31,
   "id": "ee30e0c1",
   "metadata": {},
   "outputs": [
    {
     "name": "stdout",
     "output_type": "stream",
     "text": [
      "None\n"
     ]
    }
   ],
   "source": [
    "## If no values are available none are introduced\n",
    "a = None\n",
    "print(a)"
   ]
  },
  {
   "cell_type": "code",
   "execution_count": 34,
   "id": "d6d18603",
   "metadata": {},
   "outputs": [
    {
     "name": "stdout",
     "output_type": "stream",
     "text": [
      "I am good\n",
      ", but you are not\n",
      "I am good\t, but you are not\n"
     ]
    }
   ],
   "source": [
    "# ## Escape characters\n",
    "\n",
    "# \\n == returns the next data or statement on new line\n",
    "# \\t == gives space between 2\n",
    "\n",
    "a = (\"I am good\\n, but you are not\")\n",
    "print(a)\n",
    "\n",
    "b = (\"I am good\\t, but you are not\")\n",
    "print(b)"
   ]
  },
  {
   "cell_type": "code",
   "execution_count": 35,
   "id": "6a5a5460",
   "metadata": {},
   "outputs": [
    {
     "name": "stdout",
     "output_type": "stream",
     "text": [
      "37\n",
      "23\n",
      "210\n",
      "4.285714285714286\n",
      "2\n",
      "4\n",
      "21870000000\n"
     ]
    }
   ],
   "source": [
    "### Arithmetic operators\n",
    "## +, -, *, /, %, //, **\n",
    "\n",
    "a = 30\n",
    "b = 7\n",
    "\n",
    "print(a+b)\n",
    "print(a-b)\n",
    "print(a*b)\n",
    "print(a/b)\n",
    "print(a%b) ## modulo operator will give only remainder\n",
    "print(a//b) ## Floor division will return only 4 out of 4.2857...\n",
    "print(a**b)    #### it will return exponent value i.e a^b"
   ]
  },
  {
   "cell_type": "code",
   "execution_count": 23,
   "id": "19190cd2",
   "metadata": {},
   "outputs": [
    {
     "name": "stdout",
     "output_type": "stream",
     "text": [
      "2\n"
     ]
    }
   ],
   "source": [
    "### Boolean data types\n",
    "\n",
    "a = True\n",
    "b = True\n",
    "\n",
    "print(a+b)"
   ]
  },
  {
   "cell_type": "code",
   "execution_count": 24,
   "id": "3c753765",
   "metadata": {},
   "outputs": [
    {
     "name": "stdout",
     "output_type": "stream",
     "text": [
      "False\n"
     ]
    }
   ],
   "source": [
    "print(a>b)"
   ]
  },
  {
   "cell_type": "code",
   "execution_count": 25,
   "id": "d1a259c3",
   "metadata": {},
   "outputs": [
    {
     "name": "stdout",
     "output_type": "stream",
     "text": [
      "True\n"
     ]
    }
   ],
   "source": [
    "print(a==b)"
   ]
  },
  {
   "cell_type": "code",
   "execution_count": 40,
   "id": "7051a21f",
   "metadata": {},
   "outputs": [
    {
     "name": "stdout",
     "output_type": "stream",
     "text": [
      "0\n"
     ]
    }
   ],
   "source": [
    "print(a-b)"
   ]
  },
  {
   "cell_type": "code",
   "execution_count": 41,
   "id": "9e7131d1",
   "metadata": {},
   "outputs": [
    {
     "data": {
      "text/plain": [
       "True"
      ]
     },
     "execution_count": 41,
     "metadata": {},
     "output_type": "execute_result"
    }
   ],
   "source": [
    "##### Logical operators and , or, not\n",
    "\n",
    "True and True"
   ]
  },
  {
   "cell_type": "code",
   "execution_count": 42,
   "id": "d168191a",
   "metadata": {},
   "outputs": [
    {
     "data": {
      "text/plain": [
       "True"
      ]
     },
     "execution_count": 42,
     "metadata": {},
     "output_type": "execute_result"
    }
   ],
   "source": [
    "True or True"
   ]
  },
  {
   "cell_type": "code",
   "execution_count": 43,
   "id": "8a78649e",
   "metadata": {},
   "outputs": [
    {
     "data": {
      "text/plain": [
       "False"
      ]
     },
     "execution_count": 43,
     "metadata": {},
     "output_type": "execute_result"
    }
   ],
   "source": [
    "True and False"
   ]
  },
  {
   "cell_type": "code",
   "execution_count": 44,
   "id": "128bf754",
   "metadata": {},
   "outputs": [
    {
     "data": {
      "text/plain": [
       "True"
      ]
     },
     "execution_count": 44,
     "metadata": {},
     "output_type": "execute_result"
    }
   ],
   "source": [
    "not False"
   ]
  },
  {
   "cell_type": "code",
   "execution_count": 48,
   "id": "4d2d8ec0",
   "metadata": {},
   "outputs": [
    {
     "name": "stdout",
     "output_type": "stream",
     "text": [
      "20\n",
      "0\n"
     ]
    }
   ],
   "source": [
    "print(10 and 20)    ###### always returns y unless x is o i.e false\n",
    "print(0 and 20)"
   ]
  },
  {
   "cell_type": "code",
   "execution_count": 49,
   "id": "1131d0af",
   "metadata": {},
   "outputs": [
    {
     "name": "stdout",
     "output_type": "stream",
     "text": [
      "10\n",
      "20\n"
     ]
    }
   ],
   "source": [
    "print(10 or 20)    #### return x if x is true i.e non-zero otherwise it is y only\n",
    "print(0 or 20)"
   ]
  },
  {
   "cell_type": "code",
   "execution_count": 51,
   "id": "5d86e14d",
   "metadata": {},
   "outputs": [
    {
     "data": {
      "text/plain": [
       "3.141592653589793"
      ]
     },
     "execution_count": 51,
     "metadata": {},
     "output_type": "execute_result"
    }
   ],
   "source": [
    "##### Importing modules: Its a package with functions in it ,related to task we perform\n",
    "#### import modules_name or import math as alias(short form eg. m) or from module_name import function1,function2......functionN\n",
    "\n",
    "import math as m\n",
    "m.pi"
   ]
  },
  {
   "cell_type": "code",
   "execution_count": 55,
   "id": "5bd1ed7b",
   "metadata": {},
   "outputs": [
    {
     "data": {
      "text/plain": [
       "3.0"
      ]
     },
     "execution_count": 55,
     "metadata": {},
     "output_type": "execute_result"
    }
   ],
   "source": [
    "m.sqrt(9)"
   ]
  },
  {
   "cell_type": "code",
   "execution_count": 56,
   "id": "420e8693",
   "metadata": {},
   "outputs": [
    {
     "name": "stdout",
     "output_type": "stream",
     "text": [
      "3.141592653589793\n",
      "2.0\n"
     ]
    }
   ],
   "source": [
    "from math import sqrt,pi\n",
    "print(pi)\n",
    "print(sqrt(4))"
   ]
  },
  {
   "cell_type": "code",
   "execution_count": 26,
   "id": "626e248d",
   "metadata": {},
   "outputs": [
    {
     "name": "stdout",
     "output_type": "stream",
     "text": [
      "2030-02-09\n"
     ]
    }
   ],
   "source": [
    "import datetime as dt\n",
    "\n",
    "k = dt.date(2030,2,9)    #### year,month,day\n",
    "print(k)"
   ]
  },
  {
   "cell_type": "code",
   "execution_count": 27,
   "id": "71ce64db",
   "metadata": {},
   "outputs": [
    {
     "name": "stdout",
     "output_type": "stream",
     "text": [
      "2023-12-11\n"
     ]
    }
   ],
   "source": [
    "a = dt.date.today()      #### syntax is module_function_attribute()\n",
    "print(a)"
   ]
  },
  {
   "cell_type": "code",
   "execution_count": 64,
   "id": "77355924",
   "metadata": {},
   "outputs": [
    {
     "name": "stdout",
     "output_type": "stream",
     "text": [
      "Current year : 2023\n",
      "Current month : 11\n",
      "Current day : 1\n"
     ]
    }
   ],
   "source": [
    "print(\"Current year :\",a.year)\n",
    "print(\"Current month :\",a.month)\n",
    "print(\"Current day :\",a.day)"
   ]
  },
  {
   "cell_type": "code",
   "execution_count": 32,
   "id": "3f7e47c5",
   "metadata": {},
   "outputs": [
    {
     "name": "stdout",
     "output_type": "stream",
     "text": [
      "11:36:56\n"
     ]
    }
   ],
   "source": [
    "from datetime import time, timedelta, timezone\n",
    "\n",
    "a1 = dt.time(11,36,56)\n",
    "print(a1)\n"
   ]
  },
  {
   "cell_type": "code",
   "execution_count": 29,
   "id": "509ef88d",
   "metadata": {},
   "outputs": [
    {
     "name": "stdout",
     "output_type": "stream",
     "text": [
      "Current hour : 11\n",
      "Current minute : 36\n",
      "Current second : 56\n"
     ]
    }
   ],
   "source": [
    "print(\"Current hour :\",a1.hour)\n",
    "print(\"Current minute :\",a1.minute)\n",
    "print(\"Current second :\",a1.second)"
   ]
  },
  {
   "cell_type": "code",
   "execution_count": null,
   "id": "0a7fef69",
   "metadata": {},
   "outputs": [],
   "source": []
  }
 ],
 "metadata": {
  "kernelspec": {
   "display_name": "Python 3 (ipykernel)",
   "language": "python",
   "name": "python3"
  },
  "language_info": {
   "codemirror_mode": {
    "name": "ipython",
    "version": 3
   },
   "file_extension": ".py",
   "mimetype": "text/x-python",
   "name": "python",
   "nbconvert_exporter": "python",
   "pygments_lexer": "ipython3",
   "version": "3.11.5"
  }
 },
 "nbformat": 4,
 "nbformat_minor": 5
}
