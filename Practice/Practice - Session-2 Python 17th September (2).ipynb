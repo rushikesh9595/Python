{
 "cells": [
  {
   "cell_type": "code",
   "execution_count": 2,
   "id": "d3828366",
   "metadata": {},
   "outputs": [
    {
     "name": "stdout",
     "output_type": "stream",
     "text": [
      "Please Enter your name  - 0000\n",
      "0000\n",
      "<class 'str'>\n"
     ]
    }
   ],
   "source": [
    "##### Inbuilt Function in Python which is called as input()\n",
    "name = input(\"Please Enter your name  - \")\n",
    "print(name)\n",
    "print(type(name))"
   ]
  },
  {
   "cell_type": "code",
   "execution_count": 14,
   "id": "71668bd3",
   "metadata": {},
   "outputs": [
    {
     "name": "stdout",
     "output_type": "stream",
     "text": [
      "Enter the distance travelled - 252.89\n",
      "Enter the time taken - 12.5\n",
      "The Speed of the car is -  20.23 km/hr\n"
     ]
    }
   ],
   "source": [
    "#### Creating an Application to Calcuate the Speed of the Car - \n",
    "### Can you write a program asking the user to enter distance, \n",
    "### enter speed and calculate the time\n",
    "### and store that and print that ?\n",
    "#print(\"Speed Calculator\")\n",
    "dist = int(input(\"Enter the distance travelled - \"))\n",
    "time = int(input(\"Enter the time taken - \"))\n",
    "\n",
    "speed  = dist/time\n",
    "print(\"The Speed of the car is - \",round(speed,2), \"km/hr\")"
   ]
  },
  {
   "cell_type": "code",
   "execution_count": 16,
   "id": "55feae3a",
   "metadata": {},
   "outputs": [
    {
     "name": "stdout",
     "output_type": "stream",
     "text": [
      "What is your age ? 25.35\n"
     ]
    }
   ],
   "source": [
    "age = float(input(\"What is your age ? \"))"
   ]
  },
  {
   "cell_type": "code",
   "execution_count": null,
   "id": "ca0815e5",
   "metadata": {},
   "outputs": [],
   "source": [
    "# #### mathematical operators for String\n",
    "#  + and *\n",
    "# + is basically use for concatenation of String (both should be in string format)\n",
    "# * is bascially use for repetation of string (one should be string and one should be in int)"
   ]
  },
  {
   "cell_type": "code",
   "execution_count": 19,
   "id": "1c89c3cb",
   "metadata": {},
   "outputs": [
    {
     "name": "stdout",
     "output_type": "stream",
     "text": [
      "Sonali\n",
      "Tende\n",
      "Sonali Tende\n"
     ]
    }
   ],
   "source": [
    "fn = 'Sonali'\n",
    "ln = 'Tende'\n",
    "print(fn)\n",
    "print(ln)\n",
    "full_name = fn + ' ' + ln\n",
    "print(full_name)"
   ]
  },
  {
   "cell_type": "code",
   "execution_count": 25,
   "id": "c741a266",
   "metadata": {},
   "outputs": [
    {
     "data": {
      "text/plain": [
       "'Tahul Tahul Tahul Tahul Tahul Tahul Tahul Tahul Tahul Tahul '"
      ]
     },
     "execution_count": 25,
     "metadata": {},
     "output_type": "execute_result"
    }
   ],
   "source": [
    "ln = \"Tahul \"\n",
    "ln* 10"
   ]
  },
  {
   "cell_type": "code",
   "execution_count": 26,
   "id": "9d8e1a33",
   "metadata": {},
   "outputs": [],
   "source": [
    "### wE CAN USE CONMPARISION OPERATORS  (<,<=, >,>= AND EQUALITY OPERATOR (==, !=))\n",
    "#Comparion will be performed based on alphabetical order"
   ]
  },
  {
   "cell_type": "code",
   "execution_count": 33,
   "id": "2849171b",
   "metadata": {},
   "outputs": [
    {
     "name": "stdout",
     "output_type": "stream",
     "text": [
      "True\n"
     ]
    }
   ],
   "source": [
    "a = \"Zkash\"\n",
    "a1 = \"Rahul\"\n",
    "print(a >= a1)"
   ]
  },
  {
   "cell_type": "code",
   "execution_count": 34,
   "id": "7d319e54",
   "metadata": {},
   "outputs": [],
   "source": [
    "#### Remove Spaces from string\n",
    "# 1. rstrip() - to remove spaces at right hand side\n",
    "# 2. lstrip() - to remove spaces at left hand side\n",
    "# 3. strip() - to remove spaces both sidea"
   ]
  },
  {
   "cell_type": "code",
   "execution_count": 38,
   "id": "1bd76e28",
   "metadata": {},
   "outputs": [
    {
     "name": "stdout",
     "output_type": "stream",
     "text": [
      "   Donald Truimph   \n"
     ]
    }
   ],
   "source": [
    "d = \"   Donald Truimph   \"\n",
    "print(d)"
   ]
  },
  {
   "cell_type": "code",
   "execution_count": 39,
   "id": "285b0c5e",
   "metadata": {},
   "outputs": [
    {
     "name": "stdout",
     "output_type": "stream",
     "text": [
      "Donald Truimph\n"
     ]
    }
   ],
   "source": [
    "d = d.strip()\n",
    "print(d)"
   ]
  },
  {
   "cell_type": "code",
   "execution_count": 3,
   "id": "a74a1141",
   "metadata": {},
   "outputs": [
    {
     "name": "stdout",
     "output_type": "stream",
     "text": [
      "Learning Python is very Easy !!!!!!!!\n",
      "LearningPythonisveryEasy!!!!!!!!\n",
      "Learning MySQL is very Easy !!!!!!!!\n"
     ]
    }
   ],
   "source": [
    "#### Replacing a String with Another String !!!!!\n",
    "s = \"Learning Python is very Easy !!!!!!!!\"\n",
    "print(s)\n",
    "s1 = s.replace(\" \", \"\")\n",
    "s2 = s.replace(\"Python\", \"MySQL\")\n",
    "print(s1)\n",
    "print(s2)"
   ]
  },
  {
   "cell_type": "code",
   "execution_count": 8,
   "id": "6b21e5ff",
   "metadata": {},
   "outputs": [
    {
     "data": {
      "text/plain": [
       "'Learning Python and java is very simple'"
      ]
     },
     "execution_count": 8,
     "metadata": {},
     "output_type": "execute_result"
    }
   ],
   "source": [
    "#### Counting of Substring in a String\n",
    "s"
   ]
  },
  {
   "cell_type": "code",
   "execution_count": 11,
   "id": "6c79765a",
   "metadata": {},
   "outputs": [
    {
     "name": "stdout",
     "output_type": "stream",
     "text": [
      "6\n",
      "1\n"
     ]
    }
   ],
   "source": [
    "s1 = s.count(\" \")\n",
    "print(s1)\n",
    "print(s.count('Learning'))"
   ]
  },
  {
   "cell_type": "code",
   "execution_count": 6,
   "id": "e041c29a",
   "metadata": {},
   "outputs": [],
   "source": [
    "s = \"Learning Python and java is very simple\""
   ]
  },
  {
   "cell_type": "code",
   "execution_count": 7,
   "id": "2b7d804f",
   "metadata": {},
   "outputs": [
    {
     "name": "stdout",
     "output_type": "stream",
     "text": [
      "Learning C and Php is very easy\n"
     ]
    }
   ],
   "source": [
    "s1 = s.replace(\"Python\", \"C\").replace(\"java\", \"Php\").replace(\"simple\", \"easy\")\n",
    "print(s1)"
   ]
  },
  {
   "cell_type": "code",
   "execution_count": null,
   "id": "1d2a5f04",
   "metadata": {},
   "outputs": [],
   "source": []
  }
 ],
 "metadata": {
  "kernelspec": {
   "display_name": "Python 3 (ipykernel)",
   "language": "python",
   "name": "python3"
  },
  "language_info": {
   "codemirror_mode": {
    "name": "ipython",
    "version": 3
   },
   "file_extension": ".py",
   "mimetype": "text/x-python",
   "name": "python",
   "nbconvert_exporter": "python",
   "pygments_lexer": "ipython3",
   "version": "3.11.5"
  }
 },
 "nbformat": 4,
 "nbformat_minor": 5
}
