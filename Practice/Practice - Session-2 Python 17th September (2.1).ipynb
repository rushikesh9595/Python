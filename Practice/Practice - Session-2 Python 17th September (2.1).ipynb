{
 "cells": [
  {
   "cell_type": "markdown",
   "id": "dda72a78",
   "metadata": {},
   "source": [
    "# String Operator as DT\n"
   ]
  },
  {
   "cell_type": "code",
   "execution_count": 13,
   "id": "6017eab3",
   "metadata": {},
   "outputs": [
    {
     "name": "stdout",
     "output_type": "stream",
     "text": [
      "My name is :RUshikesh\n",
      "My age is :25\n",
      "RUshikesh\n",
      "25\n",
      "<class 'str'>\n",
      "<class 'int'>\n"
     ]
    }
   ],
   "source": [
    "# Input function is default string DT and if integer has to be written prefix the i/p with int()\n",
    "\n",
    "A = input(\"My name is :\")\n",
    "B = int(input(\"My age is :\"))\n",
    "print(A)\n",
    "print(B)\n",
    "print(type(A))\n",
    "print(type(B))"
   ]
  },
  {
   "cell_type": "code",
   "execution_count": 14,
   "id": "cc422c96",
   "metadata": {},
   "outputs": [
    {
     "name": "stdout",
     "output_type": "stream",
     "text": [
      "Distance travelled is :5489\n",
      "Time taken is :123\n",
      "Speed of the car is : 44.63 km/hr\n"
     ]
    }
   ],
   "source": [
    "Distance = int(input(\"Distance travelled is :\"))\n",
    "Time = int(input(\"Time taken is :\"))\n",
    "Speed = Distance/Time\n",
    "print(\"Speed of the car is :\", round(Speed,2), \"km/hr\")"
   ]
  },
  {
   "cell_type": "code",
   "execution_count": 19,
   "id": "393d95e0",
   "metadata": {},
   "outputs": [
    {
     "name": "stdout",
     "output_type": "stream",
     "text": [
      "RushikeshBarwade\n",
      "Rushikesh Barwade\n",
      "RushikeshRushikeshRushikesh\n",
      "Rushi Rushi Rushi \n"
     ]
    }
   ],
   "source": [
    "## Mathematical operators in string\n",
    "## + = concatenation\n",
    "## * = repeting the string\n",
    "\n",
    "A = \"Rushikesh\"\n",
    "B = \"Barwade\"\n",
    "C = A + B\n",
    "D = A +' '+B\n",
    "print(C)\n",
    "print(D)\n",
    "print(A*3)\n",
    "\n",
    "D1 = \"Rushi \"\n",
    "E = D1*3 \n",
    "print(E)"
   ]
  },
  {
   "cell_type": "code",
   "execution_count": 20,
   "id": "c5362a3f",
   "metadata": {},
   "outputs": [
    {
     "name": "stdout",
     "output_type": "stream",
     "text": [
      "False\n",
      "True\n",
      "False\n",
      "True\n",
      "False\n",
      "True\n"
     ]
    }
   ],
   "source": [
    "## Coparing strings using comparison operators (<,>,<=,>=) and Equality/Assignment operators (==,!=) alphanetically\n",
    "\n",
    "A = \"Rushikesh\"\n",
    "B = \"Barwade\"\n",
    "\n",
    "print(A<B)\n",
    "print(A>B)\n",
    "print(A<=B)\n",
    "print(A>=B)\n",
    "print(A==B)\n",
    "print(A!=B)"
   ]
  },
  {
   "cell_type": "code",
   "execution_count": 24,
   "id": "c96d31dd",
   "metadata": {},
   "outputs": [
    {
     "name": "stdout",
     "output_type": "stream",
     "text": [
      "    Rushikesh Barwade\n",
      "Rushikesh Barwade      \n",
      "     Rushikesh Barwade  \n",
      "Rushikesh Barwade\n",
      "Rushikesh Barwade\n",
      "Rushikesh Barwade\n"
     ]
    }
   ],
   "source": [
    "A1 = \"    Rushikesh Barwade\"\n",
    "A2 = \"Rushikesh Barwade      \"\n",
    "A3 = \"     Rushikesh Barwade  \"\n",
    "\n",
    "print(A1)\n",
    "print(A2)\n",
    "print(A3)\n",
    "\n",
    "A1 = A1.lstrip()\n",
    "print(A1)\n",
    "A2 = A2.rstrip()\n",
    "print(A2)\n",
    "A3 = A3.strip()\n",
    "print(A3)"
   ]
  },
  {
   "cell_type": "code",
   "execution_count": 32,
   "id": "7b762cb2",
   "metadata": {},
   "outputs": [
    {
     "name": "stdout",
     "output_type": "stream",
     "text": [
      "My name is Rushikesh\n",
      "My 2nd name is Rushikesh\n",
      "My,name,is,Rushikesh\n",
      "My 2nd name is Barwade\n"
     ]
    }
   ],
   "source": [
    "## Replacing string with another string\n",
    "\n",
    "R = \"My name is Rushikesh\"\n",
    "print(R)\n",
    "\n",
    "S = R.replace(\"name\",\"2nd name\")\n",
    "S3 = R.replace(\" \", \",\")\n",
    "S4 = R.replace(\"name\",\"2nd name\").replace(\"Rushikesh\",\"Barwade\")\n",
    "print(S)\n",
    "print(S3)\n",
    "print(S4)"
   ]
  },
  {
   "cell_type": "code",
   "execution_count": 31,
   "id": "0816e9b8",
   "metadata": {},
   "outputs": [
    {
     "name": "stdout",
     "output_type": "stream",
     "text": [
      "2\n",
      "3\n"
     ]
    }
   ],
   "source": [
    "## Counting sub-strings in string\n",
    "\n",
    "S1 = R.count(\"i\")\n",
    "S2 = R.count(\" \")\n",
    "print(S1)\n",
    "print(S2)"
   ]
  },
  {
   "cell_type": "code",
   "execution_count": null,
   "id": "07cae031",
   "metadata": {},
   "outputs": [],
   "source": []
  }
 ],
 "metadata": {
  "kernelspec": {
   "display_name": "Python 3 (ipykernel)",
   "language": "python",
   "name": "python3"
  },
  "language_info": {
   "codemirror_mode": {
    "name": "ipython",
    "version": 3
   },
   "file_extension": ".py",
   "mimetype": "text/x-python",
   "name": "python",
   "nbconvert_exporter": "python",
   "pygments_lexer": "ipython3",
   "version": "3.11.5"
  }
 },
 "nbformat": 4,
 "nbformat_minor": 5
}
